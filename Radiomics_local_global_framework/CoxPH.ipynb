{
 "cells": [
  {
   "cell_type": "code",
   "execution_count": 1,
   "metadata": {},
   "outputs": [],
   "source": [
    "import numpy as np\n",
    "import pandas as pd\n",
    "from sklearn.preprocessing import StandardScaler\n",
    "import os\n",
    "import warnings\n",
    "import joblib\n",
    "from pycox.models import CoxPH\n",
    "from pycox.evaluation import EvalSurv\n",
    "import torch\n",
    "from torchtuples.practical import MLPVanilla\n",
    "from sklearn.linear_model import LassoCV\n",
    "from torchtuples import optim as ttoptim\n",
    "from sklearn.model_selection import train_test_split\n",
    "import csv\n",
    "from torch.utils.data import DataLoader, TensorDataset\n",
    "\n",
    "from pycox.models.loss import CoxPHLoss\n",
    "import torchtuples as tt\n",
    "import matplotlib.pyplot as plt\n"
   ]
  },
  {
   "cell_type": "code",
   "execution_count": 2,
   "metadata": {},
   "outputs": [],
   "source": [
    "\n",
    "# Suppress all warnings\n",
    "warnings.filterwarnings('ignore')\n"
   ]
  },
  {
   "cell_type": "code",
   "execution_count": 3,
   "metadata": {},
   "outputs": [],
   "source": [
    "\n",
    "model_used = 'CoxPH'\n",
    "selection_method = 'lasso'\n",
    "\n",
    "Light_GBM_global = [\n",
    "    \"flair_t1ce_t2\",\n",
    "    # \"flair_t1ce_t2\",\n",
    "    # \"flair\",\n",
    "    # \"flair_t1ce\",\n",
    "    # \"flair_t1ce\"\n",
    "]\n",
    "Light_GBM_local = [\n",
    "    \"flair_t1ce_t2\",\n",
    "    # \"flair_t1ce\",\n",
    "    # \"flair\",\n",
    "    # \"t2\",\n",
    "    # \"flair_t1ce\",\n",
    "]"
   ]
  },
  {
   "cell_type": "code",
   "execution_count": 4,
   "metadata": {},
   "outputs": [],
   "source": [
    "train_path = '../dataset/MICCAI_BraTS2020_TrainingData/survival_info.csv'\n",
    "val_path = '../dataset/MICCAI_BraTS2020_ValidationData/survival_evaluation.csv'"
   ]
  },
  {
   "cell_type": "code",
   "execution_count": 5,
   "metadata": {},
   "outputs": [],
   "source": [
    "\n",
    "def ensure_directory_exists(filepath):\n",
    "    os.makedirs(os.path.dirname(filepath), exist_ok=True)\n"
   ]
  },
  {
   "cell_type": "code",
   "execution_count": 6,
   "metadata": {},
   "outputs": [],
   "source": [
    "def load_radiomic_features(target_directory, file_name):\n",
    "    file_path = os.path.join(target_directory, file_name)\n",
    "    array = np.load(file_path)\n",
    "    print(f\"Array loaded from '{file_path}'\")\n",
    "    return array\n"
   ]
  },
  {
   "cell_type": "code",
   "execution_count": 7,
   "metadata": {},
   "outputs": [],
   "source": [
    "def save_model_and_parameters(model, modality_used, mask, params):\n",
    "    model_dir = f\"./models/{selection_method}_feature_selection/CoxPH/{modality_used}/\"\n",
    "    ensure_directory_exists(model_dir)\n",
    "    model_file = os.path.join(model_dir, 'model.pt')\n",
    "    params_file = os.path.join(model_dir, 'params.txt')\n",
    "    mask_file = os.path.join(model_dir, f'{selection_method}_mask.npy')\n",
    "    \n",
    "    # Save the model\n",
    "    model.save_net(model_file)\n",
    "    \n",
    "    # Save the parameters\n",
    "    with open(params_file, 'w') as file:\n",
    "        file.write(f\"Parameters: {params}\\n\")\n",
    "    \n",
    "    # Save the selected features mask\n",
    "    np.save(mask_file, mask)\n",
    "    \n",
    "    print(f\"Model, parameters, and {selection_method} mask saved successfully for modality {modality_used}.\")"
   ]
  },
  {
   "cell_type": "code",
   "execution_count": 8,
   "metadata": {},
   "outputs": [],
   "source": [
    "def load_and_combine_features(modality_keys, dataset_type):\n",
    "    combined_features = []\n",
    "    for modality in modality_keys:\n",
    "        features = np.load(f'../local_spatial_Framework/features/{modality}/{dataset_type}/{dataset_type}_backbone_outputs.npy')\n",
    "        combined_features.append(features)\n",
    "    return np.concatenate(combined_features, axis=1)\n"
   ]
  },
  {
   "cell_type": "code",
   "execution_count": 9,
   "metadata": {},
   "outputs": [],
   "source": [
    "def make_csv(y_pred_validation, modality_used):\n",
    "    df = pd.read_csv('../dataset/MICCAI_BraTS2020_ValidationData/survival_evaluation.csv')\n",
    "    validation_ids = df['BraTS20ID'].values\n",
    "    filename = f\"../radiomics_local_global_predictions/{selection_method}_feature_selection/{model_used}/{modality_used}_{model_used}.csv\"\n",
    "    #removing 116 paitents ID from list\n",
    "    validation_ids = np.delete(validation_ids, 26, axis=0)\n",
    "    \n",
    "\n",
    "    ensure_directory_exists(filename)\n",
    "\n",
    "    with open(filename, mode='w', newline='') as file:\n",
    "        writer = csv.writer(file)\n",
    "        writer.writerow([\"ID\", \"Days\"])\n",
    "        for id, day in zip(validation_ids, y_pred_validation):\n",
    "            writer.writerow([id, int(day)])  # Convert to int if necessary\n",
    "\n",
    "    print(f\"CSV file '{filename}' created successfully.\")"
   ]
  },
  {
   "cell_type": "code",
   "execution_count": 10,
   "metadata": {},
   "outputs": [],
   "source": [
    "\n",
    "def load_features(modality_used):\n",
    "    base_dir = os.path.join('../Global_extracted_features', modality_used)\n",
    "    train_features = np.load(os.path.join(base_dir, 'train_features.npy'))\n",
    "    validate_features = np.load(os.path.join(base_dir, 'validate_features.npy'))\n",
    "    train_labels = np.load(os.path.join(base_dir, 'train_labels.npy'))\n",
    "    return train_features, validate_features, train_labels"
   ]
  },
  {
   "cell_type": "code",
   "execution_count": 11,
   "metadata": {},
   "outputs": [],
   "source": [
    "def train_model(train_features, validate_features, train_labels, modality_used):\n",
    "    print(\"train_features shape:\", train_features.shape)\n",
    "    print(\"validate_features shape:\", validate_features.shape)\n",
    "    print(\"train_labels shape:\", train_labels.shape)\n",
    "\n",
    "    print(\"train_features dtype:\", train_features.dtype)\n",
    "    print(\"validate_features dtype:\", validate_features.dtype)\n",
    "    print(\"train_labels dtype:\", train_labels.dtype)\n",
    "\n",
    "    print(\"Any NaN in train_features:\", np.isnan(train_features).any())\n",
    "    print(\"Any NaN in validate_features:\", np.isnan(validate_features).any())\n",
    "    print(\"Any NaN in train_labels:\", np.isnan(train_labels).any())\n",
    "\n",
    "    print(\"Any inf in train_features:\", np.isinf(train_features).any())\n",
    "    print(\"Any inf in validate_features:\", np.isinf(validate_features).any())\n",
    "    print(\"Any inf in train_labels:\", np.isinf(train_labels).any())\n",
    "    scaler = StandardScaler()\n",
    "    train_features_scaled = scaler.fit_transform(train_features)\n",
    "    validate_features_scaled = scaler.transform(validate_features)\n",
    "    \n",
    "    print(f\"Size of features before Lasso: {train_features_scaled.shape}\")\n",
    "\n",
    "    # Lasso Feature Selection\n",
    "    lasso = LassoCV(cv=5, random_state=42, max_iter=100, alphas=np.logspace(-4, -0.5, 30)).fit(train_features_scaled, train_labels)\n",
    "    \n",
    "    mask = lasso.coef_ != 0\n",
    "    train_features_selected = train_features_scaled[:, mask]\n",
    "    validate_features_selected = validate_features_scaled[:, mask]\n",
    "\n",
    "    if train_features_selected.shape[1] == 0:\n",
    "        print(f\"No features selected for modality {modality_used}. Skipping this combination.\")\n",
    "        return\n",
    "\n",
    "    print(f\"Size of features after Lasso: {train_features_selected.shape}\")\n",
    "\n",
    "    # Convert data to PyTorch tensors\n",
    "    x_train = torch.FloatTensor(train_features_selected)\n",
    "    x_val = torch.FloatTensor(validate_features_selected)\n",
    "    y_train = torch.FloatTensor(train_labels)\n",
    "\n",
    "    # Create dummy event indicators (all 1 for this example, adjust if you have actual event data)\n",
    "    events_train = torch.ones_like(y_train)\n",
    "\n",
    "    # Define the model\n",
    "    in_features = train_features_selected.shape[1]\n",
    "    out_features = 1\n",
    "    net = tt.practical.MLPVanilla(in_features, [32, 32], out_features, batch_norm=True, dropout=0.1)\n",
    "\n",
    "    model = CoxPH(net, tt.optim.Adam)\n",
    "\n",
    "    # Train the model\n",
    "    batch_size = 256\n",
    "    epochs = 100\n",
    "    callbacks = [tt.callbacks.EarlyStopping()]\n",
    "    \n",
    "    # Use tt.tuplefy to create the correct data structure\n",
    "    y_train = (y_train, events_train)\n",
    "    train_data = (x_train, y_train)\n",
    "\n",
    "    log = model.fit(*train_data, batch_size, epochs, callbacks, verbose=True)\n",
    "\n",
    "    # Make predictions\n",
    "    _ = model.compute_baseline_hazards()\n",
    "    surv = model.predict_surv_df(x_val)\n",
    "    # print(surv)\n",
    "    \n",
    "    # Convert survival predictions to days\n",
    "    y_pred_validation = surv.median().values\n",
    "\n",
    "    make_csv(y_pred_validation, modality_used)\n",
    "    \n",
    "    # Save the model, parameters, and Lasso mask\n",
    "    save_model_and_parameters(model, modality_used, mask, {'epochs': epochs, 'batch_size': batch_size})\n",
    "    return surv\n",
    "    "
   ]
  },
  {
   "cell_type": "code",
   "execution_count": 12,
   "metadata": {},
   "outputs": [
    {
     "name": "stdout",
     "output_type": "stream",
     "text": [
      "Array loaded from '../radiomics features/all/radiomics_train.npy'\n",
      "Array loaded from '../radiomics features/all/radiomics_validate.npy'\n",
      "radiomic_train_features (235, 400)\n",
      "radiomic_validation_features (28, 400)\n"
     ]
    }
   ],
   "source": [
    "\n",
    "radiomic_train_features = load_radiomic_features(\"../radiomics features/all\", \"radiomics_train.npy\")\n",
    "radiomic_validation_features = load_radiomic_features(\"../radiomics features/all\", \"radiomics_validate.npy\")\n",
    "\n",
    "print(\"radiomic_train_features\", radiomic_train_features.shape)\n",
    "print(\"radiomic_validation_features\", radiomic_validation_features.shape)\n"
   ]
  },
  {
   "cell_type": "code",
   "execution_count": 13,
   "metadata": {},
   "outputs": [],
   "source": [
    "preds = None"
   ]
  },
  {
   "cell_type": "code",
   "execution_count": 14,
   "metadata": {},
   "outputs": [
    {
     "name": "stdout",
     "output_type": "stream",
     "text": [
      "\n",
      "Loading and combining features... \n",
      " local-flair_t1ce_t2\n",
      " global-flair_t1ce_t2\n",
      "global_train_features (236, 744) local_train_features (236, 192)\n",
      "global_validate_features (29, 744) local_validation_features (29, 192)\n",
      "combining all\n",
      "radiomics_local_global_training (235, 1336)\n",
      "radiomics_local_global_validation (28, 1336)\n",
      "train_features shape: (235, 1336)\n",
      "validate_features shape: (28, 1336)\n",
      "train_labels shape: (235,)\n",
      "train_features dtype: float64\n",
      "validate_features dtype: float64\n",
      "train_labels dtype: int64\n",
      "Any NaN in train_features: False\n",
      "Any NaN in validate_features: False\n",
      "Any NaN in train_labels: False\n",
      "Any inf in train_features: False\n",
      "Any inf in validate_features: False\n",
      "Any inf in train_labels: False\n",
      "Size of features before Lasso: (235, 1336)\n"
     ]
    },
    {
     "name": "stdout",
     "output_type": "stream",
     "text": [
      "Size of features after Lasso: (235, 670)\n",
      "0:\t[0s / 0s],\t\ttrain_loss: 4.6861\n",
      "1:\t[0s / 0s],\t\ttrain_loss: 4.5483\n",
      "2:\t[0s / 0s],\t\ttrain_loss: 4.5014\n",
      "3:\t[0s / 0s],\t\ttrain_loss: 4.4593\n",
      "4:\t[0s / 0s],\t\ttrain_loss: 4.4496\n",
      "5:\t[0s / 0s],\t\ttrain_loss: 4.4251\n",
      "6:\t[0s / 0s],\t\ttrain_loss: 4.4169\n",
      "7:\t[0s / 0s],\t\ttrain_loss: 4.3997\n",
      "8:\t[0s / 0s],\t\ttrain_loss: 4.3765\n",
      "9:\t[0s / 0s],\t\ttrain_loss: 4.3482\n",
      "CSV file '../radiomics_local_global_predictions/lasso_feature_selection/CoxPH/global_flair_t1ce_t2___local_flair_t1ce_t2_CoxPH.csv' created successfully.\n",
      "Model, parameters, and lasso mask saved successfully for modality global_flair_t1ce_t2___local_flair_t1ce_t2.\n"
     ]
    }
   ],
   "source": [
    "\n",
    "\n",
    "for modality_used_global, modality_used_local in zip(Light_GBM_global, Light_GBM_local):\n",
    "    modality_key_local = modality_used_local.split(\"_\")\n",
    "    modality_keys_list_global_features = modality_used_global.split(\"_\")\n",
    "    print(f\"\\nLoading and combining features... \\n local-{modality_used_local}\\n global-{modality_used_global}\")\n",
    "\n",
    "    local_train_features = load_and_combine_features(modality_key_local, 'train')\n",
    "    local_validation_features = load_and_combine_features(modality_key_local, 'validation')\n",
    "    \n",
    "    global_train_features, global_validate_features, train_labels = load_features(modality_used_global)\n",
    "    \n",
    "    print(\"global_train_features\", global_train_features.shape, \"local_train_features\", local_train_features.shape)\n",
    "    print(\"global_validate_features\", global_validate_features.shape, \"local_validation_features\", local_validation_features.shape)\n",
    "\n",
    "    local_global_training_features = np.concatenate((global_train_features, local_train_features), axis=1)\n",
    "    local_global_validation_features = np.concatenate((global_validate_features, local_validation_features), axis=1)\n",
    "\n",
    "    train_labels = np.delete(train_labels, 98, axis=0)\n",
    "    local_global_training_features = np.delete(local_global_training_features, 98, axis=0)\n",
    "    local_global_validation_features = np.delete(local_global_validation_features, 26, axis=0)\n",
    "\n",
    "    training_all_features = np.concatenate((local_global_training_features, radiomic_train_features), axis=1)\n",
    "    validation_all_features = np.concatenate((local_global_validation_features, radiomic_validation_features), axis=1)\n",
    "\n",
    "    print(\"combining all\")\n",
    "    print(\"radiomics_local_global_training\", training_all_features.shape)\n",
    "    print(\"radiomics_local_global_validation\", validation_all_features.shape)\n",
    "\n",
    "    modality_used = 'global_' + modality_used_global + '___local_' + modality_used_local\n",
    "\n",
    "    \n",
    "    preds = train_model(training_all_features, validation_all_features, train_labels,  modality_used)\n"
   ]
  },
  {
   "cell_type": "code",
   "execution_count": 15,
   "metadata": {},
   "outputs": [
    {
     "data": {
      "text/plain": [
       "pandas.core.frame.DataFrame"
      ]
     },
     "execution_count": 15,
     "metadata": {},
     "output_type": "execute_result"
    }
   ],
   "source": [
    "type(preds)"
   ]
  },
  {
   "cell_type": "code",
   "execution_count": 16,
   "metadata": {},
   "outputs": [
    {
     "data": {
      "image/png": "[encoded data removed]",
      "text/plain": [
       "<Figure size 640x480 with 1 Axes>"
      ]
     },
     "metadata": {},
     "output_type": "display_data"
    }
   ],
   "source": [
    "surv = preds\n",
    "surv.iloc[:, :5].plot()\n",
    "plt.ylabel('S(t | x)')\n",
    "_ = plt.xlabel('Time')"
   ]
  },
  {
   "cell_type": "code",
   "execution_count": 17,
   "metadata": {},
   "outputs": [],
   "source": [
    "y_pred_validation = surv.median().values"
   ]
  },
  {
   "cell_type": "code",
   "execution_count": 18,
   "metadata": {},
   "outputs": [
    {
     "data": {
      "text/plain": [
       "array([0.57119006, 0.379576  , 0.51501364, 0.5851003 , 0.62566656,\n",
       "       0.58830094, 0.3867753 , 0.09744779, 0.49184817, 0.40671533,\n",
       "       0.5117872 , 0.45100576, 0.5898542 , 0.51751846, 0.5661451 ,\n",
       "       0.44374728, 0.58425   , 0.3739985 , 0.50429434, 0.66667545,\n",
       "       0.        , 0.2627846 , 0.56220573, 0.        , 0.        ,\n",
       "       0.        , 0.43416378, 0.4158431 ], dtype=float32)"
      ]
     },
     "execution_count": 18,
     "metadata": {},
     "output_type": "execute_result"
    }
   ],
   "source": [
    "y_pred_validation"
   ]
  },
  {
   "cell_type": "code",
   "execution_count": 19,
   "metadata": {},
   "outputs": [],
   "source": [
    "   # Convert to survival days\n",
    "surv_days = np.array([surv.index[np.where(s >= 0.5)[0][0]] if np.any(s >= 0.5) else surv.index[-1] for s in surv.values.T])\n"
   ]
  },
  {
   "cell_type": "code",
   "execution_count": 20,
   "metadata": {},
   "outputs": [
    {
     "data": {
      "text/plain": [
       "array([   5.,    5.,    5.,    5.,    5.,    5.,    5.,    5.,    5.,\n",
       "          5.,    5.,    5.,    5.,    5.,    5.,    5.,    5.,    5.,\n",
       "          5.,    5., 1767.,    5.,    5., 1767., 1767., 1767.,    5.,\n",
       "          5.], dtype=float32)"
      ]
     },
     "execution_count": 20,
     "metadata": {},
     "output_type": "execute_result"
    }
   ],
   "source": [
    "surv_days"
   ]
  }
 ],
 "metadata": {
  "kernelspec": {
   "display_name": "gpu",
   "language": "python",
   "name": "python3"
  },
  "language_info": {
   "codemirror_mode": {
    "name": "ipython",
    "version": 3
   },
   "file_extension": ".py",
   "mimetype": "text/x-python",
   "name": "python",
   "nbconvert_exporter": "python",
   "pygments_lexer": "ipython3",
   "version": "3.9.19"
  }
 },
 "nbformat": 4,
 "nbformat_minor": 2
}
