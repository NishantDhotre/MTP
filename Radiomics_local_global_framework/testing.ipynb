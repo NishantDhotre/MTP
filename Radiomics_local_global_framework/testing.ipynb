{
 "cells": [
  {
   "cell_type": "code",
   "execution_count": 27,
   "metadata": {},
   "outputs": [],
   "source": [
    "import numpy as np\n",
    "import pandas as pd\n",
    "import torch\n",
    "import torch.nn as nn\n",
    "import torch.optim as optim\n",
    "from sklearn.preprocessing import StandardScaler\n",
    "from sklearn.model_selection import train_test_split\n",
    "import joblib\n",
    "import os\n",
    "import warnings\n",
    "import csv\n",
    "from sklearn.linear_model import LassoCV\n",
    "from stg import STG\n",
    "from torch.utils.data import DataLoader, TensorDataset\n",
    "from tqdm import tqdm\n",
    "import pandas as pd\n",
    "import matplotlib.pyplot as plt\n",
    "import seaborn as sns\n",
    "\n"
   ]
  },
  {
   "cell_type": "code",
   "execution_count": 28,
   "metadata": {},
   "outputs": [],
   "source": [
    "model_used = 'Neural_Network'\n",
    "selection_method = 'Stochastic Gates'\n",
    "modality_used = 'global_' + 'flair_t1ce' + '___local_' + 'flair_t1ce'"
   ]
  },
  {
   "cell_type": "code",
   "execution_count": 29,
   "metadata": {},
   "outputs": [],
   "source": [
    "model_dir = f\"./models/{selection_method}_feature_selection/{model_used}/{modality_used}/\"\n",
    "mask_file = os.path.join(model_dir, f'{selection_method}_mask.npy')\n",
    "mask1 = np.load(mask_file)\n"
   ]
  },
  {
   "cell_type": "code",
   "execution_count": 30,
   "metadata": {},
   "outputs": [
    {
     "name": "stdout",
     "output_type": "stream",
     "text": [
      "[False False False ...  True False  True]\n",
      "532\n"
     ]
    }
   ],
   "source": [
    "print(mask1)\n",
    "\n",
    "print(np.sum(mask1))"
   ]
  },
  {
   "cell_type": "code",
   "execution_count": 31,
   "metadata": {},
   "outputs": [],
   "source": [
    "model_dir = f\"./models_2/{selection_method}_feature_selection/{model_used}_try_2/{modality_used}/\"\n",
    "mask_file = os.path.join(model_dir, f'{selection_method}_mask.npy')\n",
    "mask2 = np.load(mask_file)\n"
   ]
  },
  {
   "cell_type": "code",
   "execution_count": 32,
   "metadata": {},
   "outputs": [
    {
     "name": "stdout",
     "output_type": "stream",
     "text": [
      "[False False False ...  True False  True]\n",
      "525\n"
     ]
    }
   ],
   "source": [
    "print(mask2)\n",
    "\n",
    "print(np.sum(mask2))"
   ]
  },
  {
   "cell_type": "code",
   "execution_count": 33,
   "metadata": {},
   "outputs": [],
   "source": [
    "intersection = mask1 & mask2\n"
   ]
  },
  {
   "cell_type": "code",
   "execution_count": 34,
   "metadata": {},
   "outputs": [
    {
     "name": "stdout",
     "output_type": "stream",
     "text": [
      "[False False False ...  True False  True]\n",
      "392\n"
     ]
    }
   ],
   "source": [
    "print(intersection)\n",
    "\n",
    "print(np.sum(intersection))"
   ]
  },
  {
   "cell_type": "code",
   "execution_count": 35,
   "metadata": {},
   "outputs": [
    {
     "name": "stdout",
     "output_type": "stream",
     "text": [
      "Indices where both masks are True: [   7   23   28   37   45  134  141  152  172  173  179  195  196  206\n",
      "  211  229  253  258  263  264  282  285  300  307  309  311  315  317\n",
      "  323  325  330  340  349  361  371  433  434  438  442  445  452  460\n",
      "  462  464  474  475  476  493  496  508  518  519  520  521  530  532\n",
      "  538  545  546  551  558  560  564  566  570  572  606  613  617  637\n",
      "  639  643  657  672  676  677  686  694  696  705  708  709  721  725\n",
      "  727  729  732  739  746  750  751  753  755  756  759  764  766  767\n",
      "  771  773  780  781  784  788  789  790  794  799  805  806  808  809\n",
      "  813  814  815  817  820  822  825  826  827  830  834  835  837  839\n",
      "  840  842  843  844  847  852  854  855  856  857  858  861  862  863\n",
      "  864  865  867  868  871  872  873  874  875  877  880  882  883  884\n",
      "  885  886  887  888  889  891  892  893  898  899  901  903  904  907\n",
      "  908  910  911  912  913  914  915  916  920  922  924  925  926  927\n",
      "  929  930  931  932  933  934  936  938  939  940  941  945  947  950\n",
      "  951  952  953  954  955  956  960  962  964  966  967  970  971  972\n",
      "  973  974  975  976  977  979  983  986  987  989  995  996  997  998\n",
      "  999 1000 1001 1002 1004 1005 1008 1011 1012 1016 1017 1018 1019 1021\n",
      " 1023 1027 1028 1033 1034 1035 1036 1037 1038 1040 1042 1043 1044 1046\n",
      " 1047 1049 1050 1052 1053 1054 1055 1060 1063 1065 1067 1069 1070 1071\n",
      " 1073 1074 1076 1077 1078 1079 1081 1082 1083 1084 1087 1088 1089 1090\n",
      " 1091 1093 1094 1095 1096 1098 1099 1100 1101 1102 1103 1104 1105 1106\n",
      " 1109 1110 1111 1114 1115 1116 1117 1120 1122 1123 1124 1126 1129 1131\n",
      " 1133 1135 1136 1140 1145 1147 1148 1149 1150 1151 1152 1155 1156 1157\n",
      " 1159 1161 1162 1163 1165 1167 1169 1170 1171 1174 1175 1179 1180 1182\n",
      " 1183 1185 1186 1188 1189 1190 1191 1192 1194 1195 1196 1197 1198 1199\n",
      " 1201 1202 1204 1205 1206 1208 1209 1210 1211 1212 1216 1217 1219 1220\n",
      " 1221 1224 1225 1230 1231 1232 1233 1241 1242 1244 1245 1248 1249 1251\n",
      " 1253 1254 1257 1260 1261 1262 1263 1264 1265 1266 1267 1268 1269 1271]\n"
     ]
    }
   ],
   "source": [
    "# Find indices where both masks are True\n",
    "intersection_indices = np.where(mask1 & mask2)[0]\n",
    "\n",
    "print(\"Indices where both masks are True:\", intersection_indices)"
   ]
  }
 ],
 "metadata": {
  "kernelspec": {
   "display_name": "gpu",
   "language": "python",
   "name": "python3"
  },
  "language_info": {
   "codemirror_mode": {
    "name": "ipython",
    "version": 3
   },
   "file_extension": ".py",
   "mimetype": "text/x-python",
   "name": "python",
   "nbconvert_exporter": "python",
   "pygments_lexer": "ipython3",
   "version": "3.9.19"
  }
 },
 "nbformat": 4,
 "nbformat_minor": 2
}
