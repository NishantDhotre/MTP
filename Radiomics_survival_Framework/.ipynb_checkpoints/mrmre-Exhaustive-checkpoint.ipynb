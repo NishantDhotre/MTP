{
 "cells": [
  {
   "cell_type": "code",
   "execution_count": 1,
   "metadata": {},
   "outputs": [
    {
     "name": "stderr",
     "output_type": "stream",
     "text": [
      "2024-01-15 19:06:19.452467: W tensorflow/stream_executor/platform/default/dso_loader.cc:64] Could not load dynamic library 'libcudart.so.11.0'; dlerror: libcudart.so.11.0: cannot open shared object file: No such file or directory; LD_LIBRARY_PATH: /home/surajit/anaconda3/lib/python3.9/site-packages/cv2/../../lib64:\n",
      "2024-01-15 19:06:19.452488: I tensorflow/stream_executor/cuda/cudart_stub.cc:29] Ignore above cudart dlerror if you do not have a GPU set up on your machine.\n"
     ]
    }
   ],
   "source": [
    "import os\n",
    "import cv2\n",
    "import glob\n",
    "import shutil\n",
    "import numpy as np\n",
    "import pandas as pd\n",
    "import seaborn as sns\n",
    "import matplotlib.pyplot as plt\n",
    "\n",
    "\n",
    "# neural imaging\n",
    "import nilearn as nl\n",
    "import nibabel as nib\n",
    "import nilearn.plotting as nlplt\n",
    "# !pip install git+https://github.com/miykael/gif_your_nifti # nifti to gif \n",
    "# import gif_your_nifti.core as gif2nif\n",
    "\n",
    "\n",
    "# ml libs\n",
    "import keras\n",
    "import keras.backend as K\n",
    "from keras.callbacks import CSVLogger\n",
    "from sklearn.metrics import log_loss\n",
    "from sklearn.preprocessing import MinMaxScaler\n",
    "from sklearn.metrics import classification_report\n",
    "from sklearn.model_selection import train_test_split\n",
    "from sklearn.feature_selection import mutual_info_regression as MIR\n",
    "import tensorflow as tf\n",
    "# from tensorflow.keras.models import *\n",
    "# from tensorflow.keras.layers import *\n",
    "# from tensorflow.keras.optimizers import *\n",
    "# from tensorflow.keras.utils import plot_model, to_categorical   \n",
    "# from tensorflow.keras.layers.experimental import preprocessing\n",
    "# from tensorflow.keras.callbacks import ModelCheckpoint, ReduceLROnPlateau, EarlyStopping, TensorBoard\n",
    "\n",
    "\n",
    "# Make numpy printouts easier to read.\n",
    "np.set_printoptions(precision=3, suppress=True)\n"
   ]
  },
  {
   "cell_type": "code",
   "execution_count": 2,
   "metadata": {},
   "outputs": [],
   "source": [
    "# DEFINE seg-areas  \n",
    "SEGMENT_CLASSES = {\n",
    "    0 : 'NOT tumor',\n",
    "    1 : 'NECROTIC/CORE', \n",
    "    2 : 'EDEMA',\n",
    "    3 : 'ENHANCING' # original 4 -> converted into 3 later\n",
    "}\n",
    "\n",
    "# # days start interval\n",
    "# SURVIVAL_CATEGORIES= {\n",
    "#     'SHORT' : 0 , # 0-300\n",
    "#     'MEDIUM' : 250,  # 300-450\n",
    "#     'LONG' : 450, # 450 and more\n",
    "# }\n",
    "\n",
    "# there are 155 slices per volume\n",
    "# to start at 5 and use 145 slices means we will skip the first 5 and last 5 \n",
    "VOLUME_SLICES = 100 \n",
    "VOLUME_START_AT = 22 # first slice of volume that we will include\n",
    "IMG_SIZE=128\n",
    "TRAIN_DATASET_PATH='./MICCAI_BraTS2020_TrainingData/'\n",
    "VAL_DATASET_PATH='./MICCAI_BraTS2020_ValidationData/'"
   ]
  },
  {
   "cell_type": "code",
   "execution_count": 3,
   "metadata": {},
   "outputs": [],
   "source": [
    "# lists of directories with studies\n",
    "train_and_val_directories = [f.path for f in os.scandir(TRAIN_DATASET_PATH) if f.is_dir()]\n",
    "train_and_val_directories+= [f.path for f in os.scandir(VAL_DATASET_PATH) if f.is_dir()]\n",
    "# file BraTS20_Training_355 has ill formatted name for for seg.nii file\n",
    "train_and_val_directories.remove(TRAIN_DATASET_PATH+'BraTS20_Training_355')\n",
    "\n",
    "\n",
    "def pathListIntoIds(dirList):\n",
    "    x = []\n",
    "    for i in range(0,len(dirList)):\n",
    "        x.append(dirList[i][dirList[i].rfind('/')+1:])\n",
    "    return x\n",
    "\n",
    "train_and_test_ids = pathListIntoIds(train_and_val_directories)"
   ]
  },
  {
   "cell_type": "code",
   "execution_count": 4,
   "metadata": {},
   "outputs": [
    {
     "name": "stdout",
     "output_type": "stream",
     "text": [
      "['./MICCAI_BraTS2020_TrainingData/BraTS20_Training_168', './MICCAI_BraTS2020_TrainingData/BraTS20_Training_051', './MICCAI_BraTS2020_TrainingData/BraTS20_Training_036', './MICCAI_BraTS2020_TrainingData/BraTS20_Training_322', './MICCAI_BraTS2020_TrainingData/BraTS20_Training_327', './MICCAI_BraTS2020_TrainingData/BraTS20_Training_049', './MICCAI_BraTS2020_TrainingData/BraTS20_Training_270', './MICCAI_BraTS2020_TrainingData/BraTS20_Training_109', './MICCAI_BraTS2020_TrainingData/BraTS20_Training_228', './MICCAI_BraTS2020_TrainingData/BraTS20_Training_297', './MICCAI_BraTS2020_TrainingData/BraTS20_Training_069', './MICCAI_BraTS2020_TrainingData/BraTS20_Training_095', './MICCAI_BraTS2020_TrainingData/BraTS20_Training_363', './MICCAI_BraTS2020_TrainingData/BraTS20_Training_234', './MICCAI_BraTS2020_TrainingData/BraTS20_Training_369', './MICCAI_BraTS2020_TrainingData/BraTS20_Training_082', './MICCAI_BraTS2020_TrainingData/BraTS20_Training_204', './MICCAI_BraTS2020_TrainingData/BraTS20_Training_125', './MICCAI_BraTS2020_TrainingData/BraTS20_Training_152', './MICCAI_BraTS2020_TrainingData/BraTS20_Training_001', './MICCAI_BraTS2020_TrainingData/BraTS20_Training_132', './MICCAI_BraTS2020_TrainingData/BraTS20_Training_112', './MICCAI_BraTS2020_TrainingData/BraTS20_Training_092', './MICCAI_BraTS2020_TrainingData/BraTS20_Training_017', './MICCAI_BraTS2020_TrainingData/BraTS20_Training_029', './MICCAI_BraTS2020_TrainingData/BraTS20_Training_217', './MICCAI_BraTS2020_TrainingData/BraTS20_Training_173', './MICCAI_BraTS2020_TrainingData/BraTS20_Training_097', './MICCAI_BraTS2020_TrainingData/BraTS20_Training_214', './MICCAI_BraTS2020_TrainingData/BraTS20_Training_135', './MICCAI_BraTS2020_TrainingData/BraTS20_Training_200', './MICCAI_BraTS2020_TrainingData/BraTS20_Training_271', './MICCAI_BraTS2020_TrainingData/BraTS20_Training_021', './MICCAI_BraTS2020_TrainingData/BraTS20_Training_052', './MICCAI_BraTS2020_TrainingData/BraTS20_Training_148', './MICCAI_BraTS2020_TrainingData/BraTS20_Training_070', './MICCAI_BraTS2020_TrainingData/BraTS20_Training_024', './MICCAI_BraTS2020_TrainingData/BraTS20_Training_199', './MICCAI_BraTS2020_TrainingData/BraTS20_Training_159', './MICCAI_BraTS2020_TrainingData/BraTS20_Training_337', './MICCAI_BraTS2020_TrainingData/BraTS20_Training_123', './MICCAI_BraTS2020_TrainingData/BraTS20_Training_157', './MICCAI_BraTS2020_TrainingData/BraTS20_Training_081', './MICCAI_BraTS2020_TrainingData/BraTS20_Training_111', './MICCAI_BraTS2020_TrainingData/BraTS20_Training_099', './MICCAI_BraTS2020_TrainingData/BraTS20_Training_316', './MICCAI_BraTS2020_TrainingData/BraTS20_Training_317', './MICCAI_BraTS2020_TrainingData/BraTS20_Training_364', './MICCAI_BraTS2020_TrainingData/BraTS20_Training_294', './MICCAI_BraTS2020_TrainingData/BraTS20_Training_188', './MICCAI_BraTS2020_TrainingData/BraTS20_Training_080', './MICCAI_BraTS2020_TrainingData/BraTS20_Training_233', './MICCAI_BraTS2020_TrainingData/BraTS20_Training_185', './MICCAI_BraTS2020_TrainingData/BraTS20_Training_118', './MICCAI_BraTS2020_TrainingData/BraTS20_Training_026', './MICCAI_BraTS2020_TrainingData/BraTS20_Training_041', './MICCAI_BraTS2020_TrainingData/BraTS20_Training_288', './MICCAI_BraTS2020_TrainingData/BraTS20_Training_236', './MICCAI_BraTS2020_TrainingData/BraTS20_Training_197', './MICCAI_BraTS2020_TrainingData/BraTS20_Training_079', './MICCAI_BraTS2020_TrainingData/BraTS20_Training_361', './MICCAI_BraTS2020_TrainingData/BraTS20_Training_313', './MICCAI_BraTS2020_TrainingData/BraTS20_Training_311', './MICCAI_BraTS2020_TrainingData/BraTS20_Training_299', './MICCAI_BraTS2020_TrainingData/BraTS20_Training_334', './MICCAI_BraTS2020_TrainingData/BraTS20_Training_305', './MICCAI_BraTS2020_TrainingData/BraTS20_Training_366', './MICCAI_BraTS2020_TrainingData/BraTS20_Training_054', './MICCAI_BraTS2020_TrainingData/BraTS20_Training_018', './MICCAI_BraTS2020_TrainingData/BraTS20_Training_181', './MICCAI_BraTS2020_TrainingData/BraTS20_Training_320', './MICCAI_BraTS2020_TrainingData/BraTS20_Training_083', './MICCAI_BraTS2020_TrainingData/BraTS20_Training_182', './MICCAI_BraTS2020_TrainingData/BraTS20_Training_129', './MICCAI_BraTS2020_TrainingData/BraTS20_Training_276', './MICCAI_BraTS2020_TrainingData/BraTS20_Training_025', './MICCAI_BraTS2020_TrainingData/BraTS20_Training_367', './MICCAI_BraTS2020_TrainingData/BraTS20_Training_062', './MICCAI_BraTS2020_TrainingData/BraTS20_Training_040', './MICCAI_BraTS2020_TrainingData/BraTS20_Training_281', './MICCAI_BraTS2020_TrainingData/BraTS20_Training_133', './MICCAI_BraTS2020_TrainingData/BraTS20_Training_201', './MICCAI_BraTS2020_TrainingData/BraTS20_Training_247', './MICCAI_BraTS2020_TrainingData/BraTS20_Training_038', './MICCAI_BraTS2020_TrainingData/BraTS20_Training_283', './MICCAI_BraTS2020_TrainingData/BraTS20_Training_289', './MICCAI_BraTS2020_TrainingData/BraTS20_Training_043', './MICCAI_BraTS2020_TrainingData/BraTS20_Training_237', './MICCAI_BraTS2020_TrainingData/BraTS20_Training_287', './MICCAI_BraTS2020_TrainingData/BraTS20_Training_246', './MICCAI_BraTS2020_TrainingData/BraTS20_Training_183', './MICCAI_BraTS2020_TrainingData/BraTS20_Training_163', './MICCAI_BraTS2020_TrainingData/BraTS20_Training_136', './MICCAI_BraTS2020_TrainingData/BraTS20_Training_164', './MICCAI_BraTS2020_TrainingData/BraTS20_Training_269', './MICCAI_BraTS2020_TrainingData/BraTS20_Training_116', './MICCAI_BraTS2020_TrainingData/BraTS20_Training_232', './MICCAI_BraTS2020_TrainingData/BraTS20_Training_354', './MICCAI_BraTS2020_TrainingData/BraTS20_Training_090', './MICCAI_BraTS2020_TrainingData/BraTS20_Training_117', './MICCAI_BraTS2020_TrainingData/BraTS20_Training_251', './MICCAI_BraTS2020_TrainingData/BraTS20_Training_175', './MICCAI_BraTS2020_TrainingData/BraTS20_Training_105', './MICCAI_BraTS2020_TrainingData/BraTS20_Training_235', './MICCAI_BraTS2020_TrainingData/BraTS20_Training_176', './MICCAI_BraTS2020_TrainingData/BraTS20_Training_162', './MICCAI_BraTS2020_TrainingData/BraTS20_Training_068', './MICCAI_BraTS2020_TrainingData/BraTS20_Training_301', './MICCAI_BraTS2020_TrainingData/BraTS20_Training_094', './MICCAI_BraTS2020_TrainingData/BraTS20_Training_056', './MICCAI_BraTS2020_TrainingData/BraTS20_Training_008', './MICCAI_BraTS2020_TrainingData/BraTS20_Training_318', './MICCAI_BraTS2020_TrainingData/BraTS20_Training_071', './MICCAI_BraTS2020_TrainingData/BraTS20_Training_222', './MICCAI_BraTS2020_TrainingData/BraTS20_Training_346', './MICCAI_BraTS2020_TrainingData/BraTS20_Training_252', './MICCAI_BraTS2020_TrainingData/BraTS20_Training_149', './MICCAI_BraTS2020_TrainingData/BraTS20_Training_121', './MICCAI_BraTS2020_TrainingData/BraTS20_Training_012', './MICCAI_BraTS2020_TrainingData/BraTS20_Training_084', './MICCAI_BraTS2020_TrainingData/BraTS20_Training_341', './MICCAI_BraTS2020_TrainingData/BraTS20_Training_072', './MICCAI_BraTS2020_TrainingData/BraTS20_Training_106', './MICCAI_BraTS2020_TrainingData/BraTS20_Training_275', './MICCAI_BraTS2020_TrainingData/BraTS20_Training_260', './MICCAI_BraTS2020_TrainingData/BraTS20_Training_004', './MICCAI_BraTS2020_TrainingData/BraTS20_Training_087', './MICCAI_BraTS2020_TrainingData/BraTS20_Training_130', './MICCAI_BraTS2020_TrainingData/BraTS20_Training_019', './MICCAI_BraTS2020_TrainingData/BraTS20_Training_248', './MICCAI_BraTS2020_TrainingData/BraTS20_Training_242', './MICCAI_BraTS2020_TrainingData/BraTS20_Training_035', './MICCAI_BraTS2020_TrainingData/BraTS20_Training_345', './MICCAI_BraTS2020_TrainingData/BraTS20_Training_272', './MICCAI_BraTS2020_TrainingData/BraTS20_Training_254', './MICCAI_BraTS2020_TrainingData/BraTS20_Training_348', './MICCAI_BraTS2020_TrainingData/BraTS20_Training_280', './MICCAI_BraTS2020_TrainingData/BraTS20_Training_277', './MICCAI_BraTS2020_TrainingData/BraTS20_Training_259', './MICCAI_BraTS2020_TrainingData/BraTS20_Training_153', './MICCAI_BraTS2020_TrainingData/BraTS20_Training_161', './MICCAI_BraTS2020_TrainingData/BraTS20_Training_240', './MICCAI_BraTS2020_TrainingData/BraTS20_Training_151', './MICCAI_BraTS2020_TrainingData/BraTS20_Training_304', './MICCAI_BraTS2020_TrainingData/BraTS20_Training_091', './MICCAI_BraTS2020_TrainingData/BraTS20_Training_141', './MICCAI_BraTS2020_TrainingData/BraTS20_Training_368', './MICCAI_BraTS2020_TrainingData/BraTS20_Training_324', './MICCAI_BraTS2020_TrainingData/BraTS20_Training_147', './MICCAI_BraTS2020_TrainingData/BraTS20_Training_128', './MICCAI_BraTS2020_TrainingData/BraTS20_Training_009', './MICCAI_BraTS2020_TrainingData/BraTS20_Training_263', './MICCAI_BraTS2020_TrainingData/BraTS20_Training_285', './MICCAI_BraTS2020_TrainingData/BraTS20_Training_020', './MICCAI_BraTS2020_TrainingData/BraTS20_Training_002', './MICCAI_BraTS2020_TrainingData/BraTS20_Training_075', './MICCAI_BraTS2020_TrainingData/BraTS20_Training_089', './MICCAI_BraTS2020_TrainingData/BraTS20_Training_065', './MICCAI_BraTS2020_TrainingData/BraTS20_Training_184', './MICCAI_BraTS2020_TrainingData/BraTS20_Training_335', './MICCAI_BraTS2020_TrainingData/BraTS20_Training_046', './MICCAI_BraTS2020_TrainingData/BraTS20_Training_154', './MICCAI_BraTS2020_TrainingData/BraTS20_Training_357', './MICCAI_BraTS2020_TrainingData/BraTS20_Training_359', './MICCAI_BraTS2020_TrainingData/BraTS20_Training_160', './MICCAI_BraTS2020_TrainingData/BraTS20_Training_261', './MICCAI_BraTS2020_TrainingData/BraTS20_Training_250', './MICCAI_BraTS2020_TrainingData/BraTS20_Training_047', './MICCAI_BraTS2020_TrainingData/BraTS20_Training_059', './MICCAI_BraTS2020_TrainingData/BraTS20_Training_015', './MICCAI_BraTS2020_TrainingData/BraTS20_Training_342', './MICCAI_BraTS2020_TrainingData/BraTS20_Training_213', './MICCAI_BraTS2020_TrainingData/BraTS20_Training_219', './MICCAI_BraTS2020_TrainingData/BraTS20_Training_073', './MICCAI_BraTS2020_TrainingData/BraTS20_Training_156', './MICCAI_BraTS2020_TrainingData/BraTS20_Training_325', './MICCAI_BraTS2020_TrainingData/BraTS20_Training_336', './MICCAI_BraTS2020_TrainingData/BraTS20_Training_005', './MICCAI_BraTS2020_TrainingData/BraTS20_Training_140', './MICCAI_BraTS2020_TrainingData/BraTS20_Training_353', './MICCAI_BraTS2020_TrainingData/BraTS20_Training_165', './MICCAI_BraTS2020_TrainingData/BraTS20_Training_158', './MICCAI_BraTS2020_TrainingData/BraTS20_Training_155', './MICCAI_BraTS2020_TrainingData/BraTS20_Training_351', './MICCAI_BraTS2020_TrainingData/BraTS20_Training_171', './MICCAI_BraTS2020_TrainingData/BraTS20_Training_308', './MICCAI_BraTS2020_TrainingData/BraTS20_Training_207', './MICCAI_BraTS2020_TrainingData/BraTS20_Training_022', './MICCAI_BraTS2020_TrainingData/BraTS20_Training_119', './MICCAI_BraTS2020_TrainingData/BraTS20_Training_290', './MICCAI_BraTS2020_TrainingData/BraTS20_Training_044', './MICCAI_BraTS2020_TrainingData/BraTS20_Training_166', './MICCAI_BraTS2020_TrainingData/BraTS20_Training_110', './MICCAI_BraTS2020_TrainingData/BraTS20_Training_127', './MICCAI_BraTS2020_TrainingData/BraTS20_Training_284', './MICCAI_BraTS2020_TrainingData/BraTS20_Training_039', './MICCAI_BraTS2020_TrainingData/BraTS20_Training_131', './MICCAI_BraTS2020_TrainingData/BraTS20_Training_064', './MICCAI_BraTS2020_TrainingData/BraTS20_Training_143', './MICCAI_BraTS2020_TrainingData/BraTS20_Training_209', './MICCAI_BraTS2020_TrainingData/BraTS20_Training_142', './MICCAI_BraTS2020_TrainingData/BraTS20_Training_202', './MICCAI_BraTS2020_TrainingData/BraTS20_Training_037', './MICCAI_BraTS2020_TrainingData/BraTS20_Training_211', './MICCAI_BraTS2020_TrainingData/BraTS20_Training_058', './MICCAI_BraTS2020_TrainingData/BraTS20_Training_358', './MICCAI_BraTS2020_TrainingData/BraTS20_Training_330', './MICCAI_BraTS2020_TrainingData/BraTS20_Training_279', './MICCAI_BraTS2020_TrainingData/BraTS20_Training_186', './MICCAI_BraTS2020_TrainingData/BraTS20_Training_194', './MICCAI_BraTS2020_TrainingData/BraTS20_Training_077', './MICCAI_BraTS2020_TrainingData/BraTS20_Training_086', './MICCAI_BraTS2020_TrainingData/BraTS20_Training_016', './MICCAI_BraTS2020_TrainingData/BraTS20_Training_344', './MICCAI_BraTS2020_TrainingData/BraTS20_Training_356', './MICCAI_BraTS2020_TrainingData/BraTS20_Training_365', './MICCAI_BraTS2020_TrainingData/BraTS20_Training_347', './MICCAI_BraTS2020_TrainingData/BraTS20_Training_169', './MICCAI_BraTS2020_TrainingData/BraTS20_Training_302', './MICCAI_BraTS2020_TrainingData/BraTS20_Training_238', './MICCAI_BraTS2020_TrainingData/BraTS20_Training_328', './MICCAI_BraTS2020_TrainingData/BraTS20_Training_231', './MICCAI_BraTS2020_TrainingData/BraTS20_Training_104', './MICCAI_BraTS2020_TrainingData/BraTS20_Training_078', './MICCAI_BraTS2020_TrainingData/BraTS20_Training_333', './MICCAI_BraTS2020_TrainingData/BraTS20_Training_210', './MICCAI_BraTS2020_TrainingData/BraTS20_Training_007', './MICCAI_BraTS2020_TrainingData/BraTS20_Training_138', './MICCAI_BraTS2020_TrainingData/BraTS20_Training_300', './MICCAI_BraTS2020_TrainingData/BraTS20_Training_113', './MICCAI_BraTS2020_TrainingData/BraTS20_Training_179', './MICCAI_BraTS2020_TrainingData/BraTS20_Training_329', './MICCAI_BraTS2020_TrainingData/BraTS20_Training_190', './MICCAI_BraTS2020_TrainingData/BraTS20_Training_203', './MICCAI_BraTS2020_TrainingData/BraTS20_Training_278', './MICCAI_BraTS2020_TrainingData/BraTS20_Training_256', './MICCAI_BraTS2020_TrainingData/BraTS20_Training_350', './MICCAI_BraTS2020_TrainingData/BraTS20_Training_028', './MICCAI_BraTS2020_TrainingData/BraTS20_Training_265', './MICCAI_BraTS2020_TrainingData/BraTS20_Training_332', './MICCAI_BraTS2020_TrainingData/BraTS20_Training_221', './MICCAI_BraTS2020_TrainingData/BraTS20_Training_067', './MICCAI_BraTS2020_TrainingData/BraTS20_Training_034', './MICCAI_BraTS2020_TrainingData/BraTS20_Training_253', './MICCAI_BraTS2020_TrainingData/BraTS20_Training_107', './MICCAI_BraTS2020_TrainingData/BraTS20_Training_120', './MICCAI_BraTS2020_TrainingData/BraTS20_Training_101', './MICCAI_BraTS2020_TrainingData/BraTS20_Training_196', './MICCAI_BraTS2020_TrainingData/BraTS20_Training_023', './MICCAI_BraTS2020_TrainingData/BraTS20_Training_093', './MICCAI_BraTS2020_TrainingData/BraTS20_Training_144', './MICCAI_BraTS2020_TrainingData/BraTS20_Training_042', './MICCAI_BraTS2020_TrainingData/BraTS20_Training_362', './MICCAI_BraTS2020_TrainingData/BraTS20_Training_192', './MICCAI_BraTS2020_TrainingData/BraTS20_Training_264', './MICCAI_BraTS2020_TrainingData/BraTS20_Training_198', './MICCAI_BraTS2020_TrainingData/BraTS20_Training_205', './MICCAI_BraTS2020_TrainingData/BraTS20_Training_229', './MICCAI_BraTS2020_TrainingData/BraTS20_Training_146', './MICCAI_BraTS2020_TrainingData/BraTS20_Training_061', './MICCAI_BraTS2020_TrainingData/BraTS20_Training_074', './MICCAI_BraTS2020_TrainingData/BraTS20_Training_286', './MICCAI_BraTS2020_TrainingData/BraTS20_Training_241', './MICCAI_BraTS2020_TrainingData/BraTS20_Training_268', './MICCAI_BraTS2020_TrainingData/BraTS20_Training_220', './MICCAI_BraTS2020_TrainingData/BraTS20_Training_006', './MICCAI_BraTS2020_TrainingData/BraTS20_Training_230', './MICCAI_BraTS2020_TrainingData/BraTS20_Training_137', './MICCAI_BraTS2020_TrainingData/BraTS20_Training_167', './MICCAI_BraTS2020_TrainingData/BraTS20_Training_215', './MICCAI_BraTS2020_TrainingData/BraTS20_Training_321', './MICCAI_BraTS2020_TrainingData/BraTS20_Training_360', './MICCAI_BraTS2020_TrainingData/BraTS20_Training_293', './MICCAI_BraTS2020_TrainingData/BraTS20_Training_225', './MICCAI_BraTS2020_TrainingData/BraTS20_Training_063', './MICCAI_BraTS2020_TrainingData/BraTS20_Training_100', './MICCAI_BraTS2020_TrainingData/BraTS20_Training_193', './MICCAI_BraTS2020_TrainingData/BraTS20_Training_310', './MICCAI_BraTS2020_TrainingData/BraTS20_Training_102', './MICCAI_BraTS2020_TrainingData/BraTS20_Training_352', './MICCAI_BraTS2020_TrainingData/BraTS20_Training_340', './MICCAI_BraTS2020_TrainingData/BraTS20_Training_033', './MICCAI_BraTS2020_TrainingData/BraTS20_Training_218', './MICCAI_BraTS2020_TrainingData/BraTS20_Training_032', './MICCAI_BraTS2020_TrainingData/BraTS20_Training_312', './MICCAI_BraTS2020_TrainingData/BraTS20_Training_338', './MICCAI_BraTS2020_TrainingData/BraTS20_Training_150', './MICCAI_BraTS2020_TrainingData/BraTS20_Training_172', './MICCAI_BraTS2020_TrainingData/BraTS20_Training_309', './MICCAI_BraTS2020_TrainingData/BraTS20_Training_174', './MICCAI_BraTS2020_TrainingData/BraTS20_Training_030', './MICCAI_BraTS2020_TrainingData/BraTS20_Training_178', './MICCAI_BraTS2020_TrainingData/BraTS20_Training_011', './MICCAI_BraTS2020_TrainingData/BraTS20_Training_262', './MICCAI_BraTS2020_TrainingData/BraTS20_Training_267', './MICCAI_BraTS2020_TrainingData/BraTS20_Training_013', './MICCAI_BraTS2020_TrainingData/BraTS20_Training_331', './MICCAI_BraTS2020_TrainingData/BraTS20_Training_180', './MICCAI_BraTS2020_TrainingData/BraTS20_Training_296', './MICCAI_BraTS2020_TrainingData/BraTS20_Training_124', './MICCAI_BraTS2020_TrainingData/BraTS20_Training_244', './MICCAI_BraTS2020_TrainingData/BraTS20_Training_291', './MICCAI_BraTS2020_TrainingData/BraTS20_Training_273', './MICCAI_BraTS2020_TrainingData/BraTS20_Training_010', './MICCAI_BraTS2020_TrainingData/BraTS20_Training_282', './MICCAI_BraTS2020_TrainingData/BraTS20_Training_255', './MICCAI_BraTS2020_TrainingData/BraTS20_Training_243', './MICCAI_BraTS2020_TrainingData/BraTS20_Training_003', './MICCAI_BraTS2020_TrainingData/BraTS20_Training_096', './MICCAI_BraTS2020_TrainingData/BraTS20_Training_126', './MICCAI_BraTS2020_TrainingData/BraTS20_Training_014', './MICCAI_BraTS2020_TrainingData/BraTS20_Training_206', './MICCAI_BraTS2020_TrainingData/BraTS20_Training_076', './MICCAI_BraTS2020_TrainingData/BraTS20_Training_266', './MICCAI_BraTS2020_TrainingData/BraTS20_Training_292', './MICCAI_BraTS2020_TrainingData/BraTS20_Training_306', './MICCAI_BraTS2020_TrainingData/BraTS20_Training_114', './MICCAI_BraTS2020_TrainingData/BraTS20_Training_208', './MICCAI_BraTS2020_TrainingData/BraTS20_Training_323', './MICCAI_BraTS2020_TrainingData/BraTS20_Training_098', './MICCAI_BraTS2020_TrainingData/BraTS20_Training_298', './MICCAI_BraTS2020_TrainingData/BraTS20_Training_191', './MICCAI_BraTS2020_TrainingData/BraTS20_Training_048', './MICCAI_BraTS2020_TrainingData/BraTS20_Training_326', './MICCAI_BraTS2020_TrainingData/BraTS20_Training_349', './MICCAI_BraTS2020_TrainingData/BraTS20_Training_170', './MICCAI_BraTS2020_TrainingData/BraTS20_Training_066', './MICCAI_BraTS2020_TrainingData/BraTS20_Training_339', './MICCAI_BraTS2020_TrainingData/BraTS20_Training_031', './MICCAI_BraTS2020_TrainingData/BraTS20_Training_245', './MICCAI_BraTS2020_TrainingData/BraTS20_Training_139', './MICCAI_BraTS2020_TrainingData/BraTS20_Training_216', './MICCAI_BraTS2020_TrainingData/BraTS20_Training_226', './MICCAI_BraTS2020_TrainingData/BraTS20_Training_108', './MICCAI_BraTS2020_TrainingData/BraTS20_Training_295', './MICCAI_BraTS2020_TrainingData/BraTS20_Training_050', './MICCAI_BraTS2020_TrainingData/BraTS20_Training_060', './MICCAI_BraTS2020_TrainingData/BraTS20_Training_319', './MICCAI_BraTS2020_TrainingData/BraTS20_Training_053', './MICCAI_BraTS2020_TrainingData/BraTS20_Training_303', './MICCAI_BraTS2020_TrainingData/BraTS20_Training_227', './MICCAI_BraTS2020_TrainingData/BraTS20_Training_212', './MICCAI_BraTS2020_TrainingData/BraTS20_Training_195', './MICCAI_BraTS2020_TrainingData/BraTS20_Training_314', './MICCAI_BraTS2020_TrainingData/BraTS20_Training_258', './MICCAI_BraTS2020_TrainingData/BraTS20_Training_343', './MICCAI_BraTS2020_TrainingData/BraTS20_Training_223', './MICCAI_BraTS2020_TrainingData/BraTS20_Training_187', './MICCAI_BraTS2020_TrainingData/BraTS20_Training_274', './MICCAI_BraTS2020_TrainingData/BraTS20_Training_239', './MICCAI_BraTS2020_TrainingData/BraTS20_Training_249', './MICCAI_BraTS2020_TrainingData/BraTS20_Training_045', './MICCAI_BraTS2020_TrainingData/BraTS20_Training_115', './MICCAI_BraTS2020_TrainingData/BraTS20_Training_177', './MICCAI_BraTS2020_TrainingData/BraTS20_Training_189', './MICCAI_BraTS2020_TrainingData/BraTS20_Training_055', './MICCAI_BraTS2020_TrainingData/BraTS20_Training_085', './MICCAI_BraTS2020_TrainingData/BraTS20_Training_307', './MICCAI_BraTS2020_TrainingData/BraTS20_Training_088', './MICCAI_BraTS2020_TrainingData/BraTS20_Training_103', './MICCAI_BraTS2020_TrainingData/BraTS20_Training_057', './MICCAI_BraTS2020_TrainingData/BraTS20_Training_122', './MICCAI_BraTS2020_TrainingData/BraTS20_Training_257', './MICCAI_BraTS2020_TrainingData/BraTS20_Training_145', './MICCAI_BraTS2020_TrainingData/BraTS20_Training_315', './MICCAI_BraTS2020_TrainingData/BraTS20_Training_224', './MICCAI_BraTS2020_TrainingData/BraTS20_Training_027', './MICCAI_BraTS2020_TrainingData/BraTS20_Training_134', './MICCAI_BraTS2020_ValidationData/BraTS20_Validation_019', './MICCAI_BraTS2020_ValidationData/BraTS20_Validation_043', './MICCAI_BraTS2020_ValidationData/BraTS20_Validation_101', './MICCAI_BraTS2020_ValidationData/BraTS20_Validation_012', './MICCAI_BraTS2020_ValidationData/BraTS20_Validation_104', './MICCAI_BraTS2020_ValidationData/BraTS20_Validation_108', './MICCAI_BraTS2020_ValidationData/BraTS20_Validation_091', './MICCAI_BraTS2020_ValidationData/BraTS20_Validation_102', './MICCAI_BraTS2020_ValidationData/BraTS20_Validation_002', './MICCAI_BraTS2020_ValidationData/BraTS20_Validation_032', './MICCAI_BraTS2020_ValidationData/BraTS20_Validation_030', './MICCAI_BraTS2020_ValidationData/BraTS20_Validation_018', './MICCAI_BraTS2020_ValidationData/BraTS20_Validation_053', './MICCAI_BraTS2020_ValidationData/BraTS20_Validation_086', './MICCAI_BraTS2020_ValidationData/BraTS20_Validation_094', './MICCAI_BraTS2020_ValidationData/BraTS20_Validation_080', './MICCAI_BraTS2020_ValidationData/BraTS20_Validation_044', './MICCAI_BraTS2020_ValidationData/BraTS20_Validation_065', './MICCAI_BraTS2020_ValidationData/BraTS20_Validation_100', './MICCAI_BraTS2020_ValidationData/BraTS20_Validation_022', './MICCAI_BraTS2020_ValidationData/BraTS20_Validation_069', './MICCAI_BraTS2020_ValidationData/BraTS20_Validation_105', './MICCAI_BraTS2020_ValidationData/BraTS20_Validation_064', './MICCAI_BraTS2020_ValidationData/BraTS20_Validation_120', './MICCAI_BraTS2020_ValidationData/BraTS20_Validation_097', './MICCAI_BraTS2020_ValidationData/BraTS20_Validation_004', './MICCAI_BraTS2020_ValidationData/BraTS20_Validation_083', './MICCAI_BraTS2020_ValidationData/BraTS20_Validation_061', './MICCAI_BraTS2020_ValidationData/BraTS20_Validation_054', './MICCAI_BraTS2020_ValidationData/BraTS20_Validation_045', './MICCAI_BraTS2020_ValidationData/BraTS20_Validation_023', './MICCAI_BraTS2020_ValidationData/BraTS20_Validation_111', './MICCAI_BraTS2020_ValidationData/BraTS20_Validation_050', './MICCAI_BraTS2020_ValidationData/BraTS20_Validation_074', './MICCAI_BraTS2020_ValidationData/BraTS20_Validation_033', './MICCAI_BraTS2020_ValidationData/BraTS20_Validation_082', './MICCAI_BraTS2020_ValidationData/BraTS20_Validation_077', './MICCAI_BraTS2020_ValidationData/BraTS20_Validation_087', './MICCAI_BraTS2020_ValidationData/BraTS20_Validation_017', './MICCAI_BraTS2020_ValidationData/BraTS20_Validation_003', './MICCAI_BraTS2020_ValidationData/BraTS20_Validation_119', './MICCAI_BraTS2020_ValidationData/BraTS20_Validation_093', './MICCAI_BraTS2020_ValidationData/BraTS20_Validation_092', './MICCAI_BraTS2020_ValidationData/BraTS20_Validation_121', './MICCAI_BraTS2020_ValidationData/BraTS20_Validation_028', './MICCAI_BraTS2020_ValidationData/BraTS20_Validation_072', './MICCAI_BraTS2020_ValidationData/BraTS20_Validation_088', './MICCAI_BraTS2020_ValidationData/BraTS20_Validation_026', './MICCAI_BraTS2020_ValidationData/BraTS20_Validation_117', './MICCAI_BraTS2020_ValidationData/BraTS20_Validation_062', './MICCAI_BraTS2020_ValidationData/BraTS20_Validation_103', './MICCAI_BraTS2020_ValidationData/BraTS20_Validation_073', './MICCAI_BraTS2020_ValidationData/BraTS20_Validation_015', './MICCAI_BraTS2020_ValidationData/BraTS20_Validation_067', './MICCAI_BraTS2020_ValidationData/BraTS20_Validation_068', './MICCAI_BraTS2020_ValidationData/BraTS20_Validation_081', './MICCAI_BraTS2020_ValidationData/BraTS20_Validation_010', './MICCAI_BraTS2020_ValidationData/BraTS20_Validation_075', './MICCAI_BraTS2020_ValidationData/BraTS20_Validation_037', './MICCAI_BraTS2020_ValidationData/BraTS20_Validation_049', './MICCAI_BraTS2020_ValidationData/BraTS20_Validation_059', './MICCAI_BraTS2020_ValidationData/BraTS20_Validation_123', './MICCAI_BraTS2020_ValidationData/BraTS20_Validation_051', './MICCAI_BraTS2020_ValidationData/BraTS20_Validation_089', './MICCAI_BraTS2020_ValidationData/BraTS20_Validation_071', './MICCAI_BraTS2020_ValidationData/BraTS20_Validation_034', './MICCAI_BraTS2020_ValidationData/BraTS20_Validation_078', './MICCAI_BraTS2020_ValidationData/BraTS20_Validation_060', './MICCAI_BraTS2020_ValidationData/BraTS20_Validation_109', './MICCAI_BraTS2020_ValidationData/BraTS20_Validation_016', './MICCAI_BraTS2020_ValidationData/BraTS20_Validation_070', './MICCAI_BraTS2020_ValidationData/BraTS20_Validation_052', './MICCAI_BraTS2020_ValidationData/BraTS20_Validation_118', './MICCAI_BraTS2020_ValidationData/BraTS20_Validation_112', './MICCAI_BraTS2020_ValidationData/BraTS20_Validation_085', './MICCAI_BraTS2020_ValidationData/BraTS20_Validation_084', './MICCAI_BraTS2020_ValidationData/BraTS20_Validation_125', './MICCAI_BraTS2020_ValidationData/BraTS20_Validation_076', './MICCAI_BraTS2020_ValidationData/BraTS20_Validation_040', './MICCAI_BraTS2020_ValidationData/BraTS20_Validation_057', './MICCAI_BraTS2020_ValidationData/BraTS20_Validation_114', './MICCAI_BraTS2020_ValidationData/BraTS20_Validation_096', './MICCAI_BraTS2020_ValidationData/BraTS20_Validation_090', './MICCAI_BraTS2020_ValidationData/BraTS20_Validation_006', './MICCAI_BraTS2020_ValidationData/BraTS20_Validation_036', './MICCAI_BraTS2020_ValidationData/BraTS20_Validation_029', './MICCAI_BraTS2020_ValidationData/BraTS20_Validation_021', './MICCAI_BraTS2020_ValidationData/BraTS20_Validation_047', './MICCAI_BraTS2020_ValidationData/BraTS20_Validation_031', './MICCAI_BraTS2020_ValidationData/BraTS20_Validation_066', './MICCAI_BraTS2020_ValidationData/BraTS20_Validation_011', './MICCAI_BraTS2020_ValidationData/BraTS20_Validation_058', './MICCAI_BraTS2020_ValidationData/BraTS20_Validation_107', './MICCAI_BraTS2020_ValidationData/BraTS20_Validation_007', './MICCAI_BraTS2020_ValidationData/BraTS20_Validation_020', './MICCAI_BraTS2020_ValidationData/BraTS20_Validation_110', './MICCAI_BraTS2020_ValidationData/BraTS20_Validation_113', './MICCAI_BraTS2020_ValidationData/BraTS20_Validation_027', './MICCAI_BraTS2020_ValidationData/BraTS20_Validation_038', './MICCAI_BraTS2020_ValidationData/BraTS20_Validation_001', './MICCAI_BraTS2020_ValidationData/BraTS20_Validation_041', './MICCAI_BraTS2020_ValidationData/BraTS20_Validation_024', './MICCAI_BraTS2020_ValidationData/BraTS20_Validation_035', './MICCAI_BraTS2020_ValidationData/BraTS20_Validation_025', './MICCAI_BraTS2020_ValidationData/BraTS20_Validation_009', './MICCAI_BraTS2020_ValidationData/BraTS20_Validation_063', './MICCAI_BraTS2020_ValidationData/BraTS20_Validation_095', './MICCAI_BraTS2020_ValidationData/BraTS20_Validation_056', './MICCAI_BraTS2020_ValidationData/BraTS20_Validation_046', './MICCAI_BraTS2020_ValidationData/BraTS20_Validation_013', './MICCAI_BraTS2020_ValidationData/BraTS20_Validation_042', './MICCAI_BraTS2020_ValidationData/BraTS20_Validation_099', './MICCAI_BraTS2020_ValidationData/BraTS20_Validation_008', './MICCAI_BraTS2020_ValidationData/BraTS20_Validation_106', './MICCAI_BraTS2020_ValidationData/BraTS20_Validation_122', './MICCAI_BraTS2020_ValidationData/BraTS20_Validation_115', './MICCAI_BraTS2020_ValidationData/BraTS20_Validation_039', './MICCAI_BraTS2020_ValidationData/BraTS20_Validation_005', './MICCAI_BraTS2020_ValidationData/BraTS20_Validation_055', './MICCAI_BraTS2020_ValidationData/BraTS20_Validation_079', './MICCAI_BraTS2020_ValidationData/BraTS20_Validation_124', './MICCAI_BraTS2020_ValidationData/BraTS20_Validation_048', './MICCAI_BraTS2020_ValidationData/BraTS20_Validation_014', './MICCAI_BraTS2020_ValidationData/BraTS20_Validation_098', './MICCAI_BraTS2020_ValidationData/BraTS20_Validation_116']\n"
     ]
    }
   ],
   "source": [
    "print(train_and_val_directories)"
   ]
  },
  {
   "cell_type": "code",
   "execution_count": 5,
   "metadata": {},
   "outputs": [
    {
     "ename": "FileNotFoundError",
     "evalue": "[Errno 2] No such file or directory: 'MICCAI_BraTS2020_TrainingData\\\\survival_info.csv'",
     "output_type": "error",
     "traceback": [
      "\u001b[0;31m---------------------------------------------------------------------------\u001b[0m",
      "\u001b[0;31mFileNotFoundError\u001b[0m                         Traceback (most recent call last)",
      "Input \u001b[0;32mIn [5]\u001b[0m, in \u001b[0;36m<cell line: 12>\u001b[0;34m()\u001b[0m\n\u001b[1;32m     11\u001b[0m max_days \u001b[38;5;241m=\u001b[39m \u001b[38;5;241m0\u001b[39m\n\u001b[1;32m     12\u001b[0m \u001b[38;5;28;01mfor\u001b[39;00m csv_path \u001b[38;5;129;01min\u001b[39;00m csvs:\n\u001b[0;32m---> 13\u001b[0m     \u001b[38;5;28;01mwith\u001b[39;00m \u001b[38;5;28;43mopen\u001b[39;49m\u001b[43m(\u001b[49m\u001b[43mcsv_path\u001b[49m\u001b[43m,\u001b[49m\u001b[43m \u001b[49m\u001b[43mmode\u001b[49m\u001b[38;5;241;43m=\u001b[39;49m\u001b[38;5;124;43m'\u001b[39;49m\u001b[38;5;124;43mr\u001b[39;49m\u001b[38;5;124;43m'\u001b[39;49m\u001b[43m)\u001b[49m \u001b[38;5;28;01mas\u001b[39;00m csv_file:\n\u001b[1;32m     14\u001b[0m         csv_reader \u001b[38;5;241m=\u001b[39m csv\u001b[38;5;241m.\u001b[39mreader(csv_file,delimiter \u001b[38;5;241m=\u001b[39m \u001b[38;5;124m'\u001b[39m\u001b[38;5;124m,\u001b[39m\u001b[38;5;124m'\u001b[39m)\n\u001b[1;32m     15\u001b[0m     \u001b[38;5;66;03m#  row_count = sum(1 for row in csv_reader)\u001b[39;00m\n\u001b[1;32m     16\u001b[0m     \u001b[38;5;66;03m#   print(f'total rows: {row_count} .')\u001b[39;00m\n",
      "\u001b[0;31mFileNotFoundError\u001b[0m: [Errno 2] No such file or directory: 'MICCAI_BraTS2020_TrainingData\\\\survival_info.csv'"
     ]
    }
   ],
   "source": [
    "import csv\n",
    "\n",
    "csvs = [r'MICCAI_BraTS2020_TrainingData\\survival_info.csv', r'MICCAI_BraTS2020_ValidationData\\survival_evaluation.csv']\n",
    "\n",
    "age_dict = {}\n",
    "days_dict = {}\n",
    "at_line = 0\n",
    "category_short = 0\n",
    "category_medium = 0\n",
    "category_long = 0\n",
    "max_days = 0\n",
    "for csv_path in csvs:\n",
    "    with open(csv_path, mode='r') as csv_file:\n",
    "        csv_reader = csv.reader(csv_file,delimiter = ',')\n",
    "    #  row_count = sum(1 for row in csv_reader)\n",
    "    #   print(f'total rows: {row_count} .')\n",
    "        for row in csv_reader:\n",
    "            if at_line == 0:\n",
    "                # print(f'Column names are {\", \".join(row)}')\n",
    "                at_line += 1\n",
    "            else:\n",
    "                if (row[-1] != \"GTR\"):\n",
    "                    continue\n",
    "                # print(row)\n",
    "                key = row[0]\n",
    "                age = row[1]\n",
    "                days = row[2]\n",
    "                age_dict[key] = float(age)\n",
    "                if (not days.isnumeric()):\n",
    "                    continue\n",
    "                days_dict[key] = int(days)\n",
    "                max_days = max(max_days,int(days))\n",
    "                if int(days) < 250:\n",
    "                    category_short += 1\n",
    "                elif (int(days) >= 250 and int(days) <= 450):\n",
    "                    category_medium += 1\n",
    "                else:\n",
    "                    category_long += 1\n",
    "                at_line+=1\n",
    "\n",
    "    print(f'Processed {at_line} lines.')\n",
    "    print(category_short,category_medium,category_long)\n",
    "    print(max_days)"
   ]
  },
  {
   "cell_type": "code",
   "execution_count": null,
   "metadata": {},
   "outputs": [],
   "source": [
    "import csv\n",
    "\n",
    "def col_and_eval(ch_ft = []):\n",
    "    id_list2 = []\n",
    "    csv_filenames = [r'.\\results.csv',r'.\\results_val.csv']\n",
    "    dt =[]\n",
    "    jj = [] #key_list\n",
    "    id_tp = 0\n",
    "    row_cc = 0\n",
    "    row2 = {}\n",
    "    id_check = {}\n",
    "    for csv_filename in csv_filenames:\n",
    "        with open(csv_filename) as f:\n",
    "            reader = csv.DictReader(f)\n",
    "            for row in reader:\n",
    "                # if row_cc > 20:\n",
    "                #     break\n",
    "                # row_cc += 1\n",
    "                dt_tp = row\n",
    "                if row['Patient_ID'] not in id_check:\n",
    "                    id_check[row['Patient_ID']] = 0\n",
    "                id_check[row['Patient_ID']] += 1\n",
    "                if len(id_list2) != 0:\n",
    "                    if id_list2[-1] == row[\"Patient_ID\"]:\n",
    "                        id_tp += 1\n",
    "                    else:\n",
    "                        dt.append(row2)\n",
    "                        row2 = {}\n",
    "                        id_tp = 0\n",
    "                if id_tp == 0:\n",
    "                    id_list2.append(row[\"Patient_ID\"])\n",
    "                if len(id_list2) == 1:\n",
    "                    for keysj in row:\n",
    "                        if keysj != None:\n",
    "                            if 'diagnostic' in keysj or 'Modality' in keysj or 'Patient_ID' in keysj:\n",
    "                                continue\n",
    "                            # print(type(keysj),keysj, type(row[keysj]),row[keysj])\n",
    "                            row[keysj] = eval(row[keysj])\n",
    "                            if isinstance(row[keysj],tuple):\n",
    "                                ct = 0\n",
    "                                for it in row[keysj]:\n",
    "                                    keysjn = keysj + str(ct)\n",
    "                                    keysjn += row[\"Modality\"][row[\"Modality\"].find('_',19,-1):row[\"Modality\"].find('.')]\n",
    "                                    if (keysjn in ch_ft) or (len(ch_ft) == 0):\n",
    "                                        jj.append(keysjn)\n",
    "                                    ct += 1\n",
    "                                continue\n",
    "                            keysj += row[\"Modality\"][row[\"Modality\"].find('_',19,-1):row[\"Modality\"].find('.')]\n",
    "                            if (keysj in ch_ft) or (len(ch_ft) == 0):\n",
    "                                jj.append(keysj)\n",
    "                for keysj in row:\n",
    "                    if keysj != None:\n",
    "                        if 'diagnostic' in keysj or 'Modality' in keysj or 'Patient_ID' in keysj:\n",
    "                            continue\n",
    "                        # print(type(keysj),keysj, type(row[keysj]),row[keysj])\n",
    "                        row[keysj] = eval(str(row[keysj]))\n",
    "                        keys2j = keysj + row[\"Modality\"][row[\"Modality\"].find('_',19,-1):row[\"Modality\"].find('.')]\n",
    "                        if isinstance(row[keysj],tuple):\n",
    "                            ct = 0\n",
    "                            for it in row[keysj]:\n",
    "                                keys2j =  keysj + str(ct) + row[\"Modality\"][row[\"Modality\"].find('_',19,-1):row[\"Modality\"].find('.')]\n",
    "                                row2[keys2j] = it\n",
    "                                ct += 1\n",
    "                            continue\n",
    "                        row2[keys2j] = row[keysj]\n",
    "                row2['Patient_ID'] = row['Patient_ID']\n",
    "    dt.append(row2)    \n",
    "    return dt, jj\n",
    "\n",
    "# print(jj)\n",
    "# print(dt)\n",
    "# create only age: category data\n"
   ]
  },
  {
   "cell_type": "code",
   "execution_count": null,
   "metadata": {},
   "outputs": [],
   "source": [
    "# id: age, categories\n",
    "def getListAgeDays(id_list, dt, jj, ch_ft = []):\n",
    "    x_val = []\n",
    "    y_val = []\n",
    "    x_test = []\n",
    "    for i in dt:\n",
    "        if ((i[\"Patient_ID\"] not in days_dict) and (\"Validation\" not in i[\"Patient_ID\"])):\n",
    "            # print(i[\"Patient_ID\"])\n",
    "            continue\n",
    "        # if (i not in id_list2):\n",
    "        #     continue\n",
    "        # masks = getMaskSizesForVolume(nib.load(TRAIN_DATASET_PATH + f'BraTS20_Training_{i[-3:]}/BraTS20_Training_{i[-3:]}_seg.nii.gz').get_fdata())\n",
    "        # brain_vol = getBrainSizeForVolume(nib.load(TRAIN_DATASET_PATH + f'BraTS20_Training_{i[-3:]}/BraTS20_Training_{i[-3:]}_t1.nii.gz').get_fdata())\n",
    "        # masks[1] = masks[1]/brain_vol\n",
    "        # masks[2] = masks[2]/brain_vol\n",
    "        # masks[3] = masks[3]/brain_vol\n",
    "        # merged=[age_dict[i],masks[1],masks[2],masks[3]] ## add segments\n",
    "        # ft = dt[]\n",
    "        if (i[\"Patient_ID\"] not in age_dict):\n",
    "            continue\n",
    "        j = [age_dict[i[\"Patient_ID\"]]]\n",
    "        for keysj in i:\n",
    "            if keysj != None:\n",
    "                if 'diagnostic' in keysj or 'Modality' in keysj or 'Patient_ID' in keysj:\n",
    "                    continue\n",
    "                if (keysj not in ch_ft) and (len(ch_ft) != 0):\n",
    "                    continue\n",
    "                # if(i[keysj][0]=='('):\n",
    "                #     i[keysj] = tuple(i[keysj])\n",
    "                # else:\n",
    "                # print(i[keysj])\n",
    "                # i[keysj] = eval(i[keysj])\n",
    "                # if isinstance(i[keysj],tuple):\n",
    "                #     ct = 0\n",
    "                #     for it in i[keysj]:\n",
    "                #         keysjn = keysj + str(ct)\n",
    "                #         j.append(it)\n",
    "                #         ct += 1\n",
    "                #     continue\n",
    "                j.append(i[keysj])\n",
    "        # print(j)\n",
    "        if \"Validation\" in i[\"Patient_ID\"]:\n",
    "            # print(\"vvv\"+i[\"Patient_ID\"])\n",
    "            x_test.append(j)\n",
    "        else:\n",
    "            x_val.append(j) \n",
    "            y_val.append(days_dict[i[\"Patient_ID\"]])\n",
    "        # if (days_dict[i[\"Patient_ID\"]] < 250):\n",
    "        #     y_val.append(0)\n",
    "        # elif (days_dict[i[\"Patient_ID\"]] >= 250 and days_dict[i[\"Patient_ID\"]] < 450):\n",
    "        #     y_val.append(1)\n",
    "        # else:\n",
    "        #     y_val.append(2)\n",
    "            \n",
    "    return np.array(x_val), np.array(y_val), np.array(x_test)\n",
    "\n",
    "dt, jj = col_and_eval()\n",
    "X_all, y_all, x_val = getListAgeDays(train_and_test_ids,dt,jj)\n",
    "print(len(train_and_test_ids))\n",
    "print(X_all.shape)\n",
    "print(y_all.shape)\n",
    "print(x_val.shape)\n",
    "print(f'X_all: {X_all.shape}')\n",
    "columns = [\"age\"]+jj+[\"prediction\"]\n",
    "print(columns)\n",
    "dfn = np.concatenate((X_all, y_all[:,None]), axis=1)\n",
    "print(dfn.shape,len(columns))\n",
    "df = pd.DataFrame(dfn, columns = columns)\n",
    "df2 = pd.DataFrame(x_val,columns = [\"age\"]+jj)\n",
    "df2.head()"
   ]
  },
  {
   "cell_type": "code",
   "execution_count": null,
   "metadata": {},
   "outputs": [],
   "source": [
    "scaler = MinMaxScaler()\n",
    "v = X_all\n",
    "v_scaled = scaler.fit_transform(v)\n",
    "X_all = v_scaled\n",
    "X_val = scaler.fit_transform(x_val)\n",
    "\n",
    "df = pd.DataFrame(X_all, columns = [\"age\"]+jj)\n",
    "# display(df)\n",
    "df2 = pd.DataFrame(X_val,columns = [\"age\"]+jj)\n",
    "df2.head()"
   ]
  },
  {
   "cell_type": "code",
   "execution_count": null,
   "metadata": {},
   "outputs": [],
   "source": [
    "# X_train, X_test, y_train, y_test = train_test_split(X_all,y_all,test_size = 0.2, random_state = 42, shuffle = True)\n",
    "X_train = X_all\n",
    "y_train = y_all\n",
    "print(\"x_train shape:\",X_train.shape)\n",
    "# print(\"x_test shape:\", X_test.shape)\n",
    "print(\"y_train shape:\",y_train.shape)\n",
    "# print(\"y_test shape:\", y_test.shape)"
   ]
  },
  {
   "cell_type": "code",
   "execution_count": null,
   "metadata": {},
   "outputs": [],
   "source": [
    "from skfeature.function.similarity_based import fisher_score\n",
    "\n",
    "print(X_train.shape,y_train.shape)\n",
    "_ranks = fisher_score.fisher_score(X_train,y_train)"
   ]
  },
  {
   "cell_type": "code",
   "execution_count": null,
   "metadata": {},
   "outputs": [],
   "source": [
    "# ft_sc = {}\n",
    "# ii = 0\n",
    "# columns = [\"age\"]+jj\n",
    "# for it in columns[:-1]:\n",
    "#     ft_sc[it] = _ranks[ii]\n",
    "#     ii += 1\n",
    "\n",
    "# sorted_ft_sc = sorted(ft_sc.items(), key=lambda x:x[1], reverse=True)\n",
    "# sorted_ft_sc = dict(sorted_ft_sc)\n",
    "# print(sorted_ft_sc)\n",
    "# print(_ranks)\n",
    "# print(columns[_ranks[0]])"
   ]
  },
  {
   "cell_type": "code",
   "execution_count": null,
   "metadata": {},
   "outputs": [],
   "source": [
    "# ij = 0\n",
    "# chosen_ft = {}\n",
    "# for it in sorted_ft_sc:\n",
    "#     chosen_ft[it] = sorted_ft_sc[it]\n",
    "#     ij += 1\n",
    "#     if ij>=400:\n",
    "#         break\n",
    "\n",
    "# print(chosen_ft)"
   ]
  },
  {
   "cell_type": "code",
   "execution_count": null,
   "metadata": {},
   "outputs": [],
   "source": [
    "columns = [\"age\"]+jj\n",
    "colnew = []\n",
    "def prune2(X):\n",
    "    xx = []\n",
    "    for row in X:\n",
    "        iter = 0\n",
    "        xxtp = []\n",
    "        for col in row:\n",
    "            if _ranks[iter]<400:\n",
    "                xxtp.append(col)\n",
    "                if columns[iter] not in colnew:\n",
    "                    colnew.append(columns[iter])\n",
    "            iter += 1\n",
    "        xx.append(xxtp)\n",
    "    return xx\n",
    "\n",
    "x_train = np.array(prune2(X_train))\n",
    "x_test = np.array(prune2(X_val))\n",
    "\n",
    "print(x_train.shape)\n",
    "print(x_test.shape)\n",
    "df = pd.DataFrame(x_train, columns = colnew)\n",
    "df2 = pd.DataFrame(x_test,columns = colnew)\n",
    "# df2.head()\n",
    "df.head()"
   ]
  },
  {
   "cell_type": "code",
   "execution_count": null,
   "metadata": {},
   "outputs": [],
   "source": [
    "# dt, jj = col_and_eval(chosen_ft)"
   ]
  },
  {
   "cell_type": "code",
   "execution_count": null,
   "metadata": {},
   "outputs": [],
   "source": [
    "# ch_X_all, ch_y_all, ch_x_test = getListAgeDays(train_and_test_ids,dt,jj,ch_ft=chosen_ft)\n",
    "# print(len(train_and_test_ids))\n",
    "# print(ch_X_all.shape)\n",
    "# print(ch_x_test.shape)\n",
    "# print(ch_y_all.shape)\n",
    "# columns = [\"age\"]+jj+[\"prediction\"]\n",
    "# print(columns)\n",
    "# ch_dfn = np.concatenate((ch_X_all, ch_y_all[:,None]), axis=1)\n",
    "# print(ch_dfn.shape,len(columns))\n",
    "# df = pd.DataFrame(ch_dfn, columns = columns)\n",
    "# df2 = pd.DataFrame(ch_x_test,columns = [\"age\"]+jj)\n",
    "# df2.head()\n",
    "# df.head()"
   ]
  },
  {
   "cell_type": "code",
   "execution_count": null,
   "metadata": {},
   "outputs": [],
   "source": [
    "scaler = MinMaxScaler()\n",
    "v = x_train\n",
    "v_scaled = scaler.fit_transform(v)\n",
    "x_train = v_scaled\n",
    "v = x_test\n",
    "v_scaled = scaler.fit_transform(v)\n",
    "x_test = v_scaled\n",
    "\n",
    "df = pd.DataFrame(x_train, columns = colnew)\n",
    "display(df)"
   ]
  },
  {
   "cell_type": "code",
   "execution_count": 8,
   "metadata": {},
   "outputs": [
    {
     "ename": "NameError",
     "evalue": "name 'x_train' is not defined",
     "output_type": "error",
     "traceback": [
      "\u001b[0;31m---------------------------------------------------------------------------\u001b[0m",
      "\u001b[0;31mNameError\u001b[0m                                 Traceback (most recent call last)",
      "Input \u001b[0;32mIn [8]\u001b[0m, in \u001b[0;36m<cell line: 5>\u001b[0;34m()\u001b[0m\n\u001b[1;32m      1\u001b[0m \u001b[38;5;66;03m# X_train, X_test, y_train, y_test = train_test_split(X_all,y_all,test_size = 0.2, random_state = 42, shuffle = True)\u001b[39;00m\n\u001b[1;32m      2\u001b[0m \u001b[38;5;66;03m# x_train = ch_X_all\u001b[39;00m\n\u001b[1;32m      3\u001b[0m \u001b[38;5;66;03m# y_train = ch_y_all\u001b[39;00m\n\u001b[1;32m      4\u001b[0m \u001b[38;5;66;03m# x_test = ch_x_test\u001b[39;00m\n\u001b[0;32m----> 5\u001b[0m \u001b[38;5;28mprint\u001b[39m(\u001b[38;5;124m\"\u001b[39m\u001b[38;5;124mx_train shape:\u001b[39m\u001b[38;5;124m\"\u001b[39m,\u001b[43mx_train\u001b[49m\u001b[38;5;241m.\u001b[39mshape)\n\u001b[1;32m      6\u001b[0m \u001b[38;5;66;03m# print(\"x_test shape:\", X_test.shape)\u001b[39;00m\n\u001b[1;32m      7\u001b[0m \u001b[38;5;28mprint\u001b[39m(\u001b[38;5;124m\"\u001b[39m\u001b[38;5;124my_train shape:\u001b[39m\u001b[38;5;124m\"\u001b[39m,y_train\u001b[38;5;241m.\u001b[39mshape)\n",
      "\u001b[0;31mNameError\u001b[0m: name 'x_train' is not defined"
     ]
    }
   ],
   "source": [
    "# X_train, X_test, y_train, y_test = train_test_split(X_all,y_all,test_size = 0.2, random_state = 42, shuffle = True)\n",
    "# x_train = ch_X_all\n",
    "# y_train = ch_y_all\n",
    "# x_test = ch_x_test\n",
    "print(\"x_train shape:\",x_train.shape)\n",
    "# print(\"x_test shape:\", X_test.shape)\n",
    "print(\"y_train shape:\",y_train.shape)\n",
    "# print(\"y_test shape:\", y_test.shape)"
   ]
  },
  {
   "cell_type": "markdown",
   "metadata": {},
   "source": [
    "**# mrmr implementation**"
   ]
  },
  {
   "cell_type": "code",
   "execution_count": null,
   "metadata": {},
   "outputs": [],
   "source": [
    "def rank(X,y,nbSolutions,I_xy):\n",
    "    f_mir = []\n",
    "    for i in range(int(X.shape[1])):\n",
    "        f_mir.append([I_xy[i],i])\n",
    "    f_mir.sort(reverse=True)\n",
    "    S=[]\n",
    "    si = []\n",
    "    for i in range(nbSolutions):\n",
    "        si.append(f_mir[i][1])\n",
    "        S.append(si)\n",
    "        si = []\n",
    "    return S"
   ]
  },
  {
   "cell_type": "code",
   "execution_count": null,
   "metadata": {},
   "outputs": [],
   "source": [
    "def score(f,X,y,Si,I_xy,I_xx):\n",
    "    if f == -1:\n",
    "        return float(\"-INF\")\n",
    "    mi_temp = 0\n",
    "    qj = I_xy[f]\n",
    "    for xi in Si:\n",
    "        mi_temp += I_xx[xi][f]\n",
    "    mi_temp/=len(Si)\n",
    "    qj += mi_temp\n",
    "    return qj"
   ]
  },
  {
   "cell_type": "code",
   "execution_count": null,
   "metadata": {},
   "outputs": [],
   "source": [
    "#Mutual Implementation\n",
    "\n",
    "I_xx = np.zeros((x_train.shape[1],x_train.shape[1]))\n",
    "I_xy = np.zeros(x_train.shape[1])\n",
    "print(I_xx.shape,I_xy.shape)\n",
    "\n",
    "i1=0\n",
    "for f1 in x_train.T:\n",
    "    # print(res)\n",
    "    # I_xx[i1][i2] = (-0.5)*math.log(1-(res*res))\n",
    "    I_xx[i1] = MIR(x_train,list(f1))\n",
    "    i1 += 1\n",
    "    print(f\"Processed MI with {i1} features so far...\")\n",
    "\n",
    "#each iteration taking ~30s and 10702 such iterations. thus, IMPOSSIBLE"
   ]
  },
  {
   "cell_type": "code",
   "execution_count": null,
   "metadata": {},
   "outputs": [],
   "source": [
    "I_xy = MIR(x_train,list(y_train))"
   ]
  },
  {
   "cell_type": "code",
   "execution_count": null,
   "metadata": {},
   "outputs": [],
   "source": [
    "S= rank(x_train,y_train,10,I_xy)\n",
    "\n",
    "lenSol = 25\n",
    "nbSol = 10\n",
    "l = 1\n",
    "\n",
    "while l<lenSol:\n",
    "    i = 0\n",
    "    # print(S)\n",
    "    while i< nbSol:\n",
    "        c = -1\n",
    "        for f in range(int(x_train.shape[1])):\n",
    "            if f in S[i]:\n",
    "                continue\n",
    "            if score(f,x_train,y_train,S[i],I_xy,I_xx)>=score(c,x_train,y_train,S[i],I_xy,I_xx):\n",
    "                flag = 1\n",
    "                for j in range(nbSol):\n",
    "                    if j==i:\n",
    "                        continue\n",
    "                    if f not in S[j]:\n",
    "                        flag = 0\n",
    "                    for k in S[i]:\n",
    "                        if k not in S[j]:\n",
    "                            flag = 0\n",
    "                if flag:\n",
    "                    continue\n",
    "                c = f\n",
    "        S[i].append(c)\n",
    "        i += 1\n",
    "    l += 1\n",
    "print(len(S),len(S[0]))\n"
   ]
  },
  {
   "cell_type": "code",
   "execution_count": null,
   "metadata": {},
   "outputs": [],
   "source": [
    "def prune(X,Si):\n",
    "    xx = []\n",
    "    for row in X:\n",
    "        iter = 0\n",
    "        xxtp = []\n",
    "        for col in row:\n",
    "            if iter in Si:\n",
    "                xxtp.append(col)\n",
    "            iter += 1\n",
    "        xx.append(xxtp)\n",
    "    return xx"
   ]
  },
  {
   "cell_type": "code",
   "execution_count": null,
   "metadata": {},
   "outputs": [],
   "source": [
    "from sklearn.model_selection import RandomizedSearchCV\n",
    "from sklearn.ensemble import RandomForestRegressor\n",
    "from sklearn.model_selection import GridSearchCV\n",
    "from sklearn.feature_selection import RFE\n",
    "from sklearn.model_selection import cross_val_score\n",
    "from sklearn.metrics import accuracy_score\n",
    "\n",
    "# Number of trees in random forest\n",
    "n_estimators = [int(x) for x in np.linspace(start = 200, stop = 2000, num = 10)]\n",
    "# Maximum number of levels in tree\n",
    "max_depth = [int(x) for x in np.linspace(10, 110, num = 11)]\n",
    "max_depth.append(None)\n",
    "# Minimum number of samples required to split a node\n",
    "min_samples_split = [2, 5, 10]\n",
    "# Minimum number of samples required at each leaf node\n",
    "min_samples_leaf = [1, 2, 4]\n",
    "# Method of selecting samples for training each tree\n",
    "bootstrap = [True, False]\n",
    "# Create the random grid\n",
    "random_grid = {'n_estimators': n_estimators,\n",
    "            'max_depth': max_depth,\n",
    "            'min_samples_split': min_samples_split,\n",
    "            'min_samples_leaf': min_samples_leaf,\n",
    "            'bootstrap': bootstrap}\n",
    "print(random_grid)"
   ]
  },
  {
   "cell_type": "code",
   "execution_count": null,
   "metadata": {},
   "outputs": [],
   "source": [
    "from sklearn.metrics import mean_squared_error\n",
    "import statistics\n",
    "from scipy import stats\n",
    "\n",
    "def evaluate(model, test_features, test_labels):\n",
    "    predictions = model.predict(test_features)\n",
    "    print(predictions)\n",
    "    med_arr = [(yt-yp)*(yt-yp) for yt,yp in zip(predictions,test_labels)]\n",
    "    return mean_squared_error(test_labels,predictions),statistics.median(med_arr),statistics.stdev(med_arr),stats.spearmanr(test_labels,predictions),predictions\n"
   ]
  },
  {
   "cell_type": "code",
   "execution_count": null,
   "metadata": {},
   "outputs": [],
   "source": [
    "def classif(y_train,y_pred):  \n",
    "    y_train_v = []\n",
    "    y_pred_v = []\n",
    "    for yi in y_train:\n",
    "        if (yi < 300):\n",
    "            y_train_v.append(0)\n",
    "        elif (yi >= 300 and yi < 450):\n",
    "            y_train_v.append(1)\n",
    "        else:\n",
    "            y_train_v.append(2)\n",
    "\n",
    "    for yi in y_pred:\n",
    "        if (yi < 300):\n",
    "            y_pred_v.append(0)\n",
    "        elif (yi >= 300 and yi < 450):\n",
    "            y_pred_v.append(1)\n",
    "        else:\n",
    "            y_pred_v.append(2)\n",
    "    return y_train_v,y_pred_v"
   ]
  },
  {
   "cell_type": "code",
   "execution_count": null,
   "metadata": {},
   "outputs": [],
   "source": [
    "from sklearn.metrics import confusion_matrix\n",
    "\n",
    "for Si in S:\n",
    "    X_train_ = np.array(prune(x_train,Si))\n",
    "    X_test_ = np.array(prune(x_test,Si))\n",
    "\n",
    "    print(X_train_.shape)\n",
    "    print(X_test_.shape)\n",
    "    rf = RandomForestRegressor()\n",
    "    # Random search of parameters, using 3 fold cross validation, \n",
    "    # search across 100 different combinations, and use all available cores\n",
    "    rf_random = RandomizedSearchCV(estimator = rf, param_distributions = random_grid, n_iter = 100, cv = 3, verbose=3, random_state=42, n_jobs = -1)\n",
    "    # Fit the random search model\n",
    "    print(X_train_.shape)\n",
    "    rf_random.fit(X_train_, y_train)\n",
    "    rf_random.best_params_\n",
    "    best_grid = rf_random.best_estimator_\n",
    "    meanSE, medianSE, stdSE, spearmanR, y_pred = evaluate(best_grid, X_train_, y_train)\n",
    "    print(meanSE, medianSE, stdSE, spearmanR)\n",
    "    y_pred2=best_grid.predict(X_test_)\n",
    "    print(y_pred2)\n",
    "    for hh in y_pred2:\n",
    "        print(hh)\n",
    "    y_train_v, y_pred_v = classif(y_train,y_pred)\n",
    "    cm = confusion_matrix(y_train_v, y_pred_v)\n",
    "\n",
    "    sns.set(font_scale=1.2) \n",
    "    sns.heatmap(cm, annot=True, annot_kws={\"size\": 12}) \n",
    "    plt.show()\n"
   ]
  },
  {
   "cell_type": "code",
   "execution_count": null,
   "metadata": {},
   "outputs": [],
   "source": [
    "# from sklearn.model_selection import RandomizedSearchCV\n",
    "# from sklearn.ensemble import RandomForestRegressor\n",
    "# from sklearn.model_selection import GridSearchCV\n",
    "# from sklearn.feature_selection import RFE\n",
    "# from sklearn.model_selection import cross_val_score\n",
    "# from sklearn.metrics import accuracy_score\n",
    "\n",
    "# # Number of trees in random forest\n",
    "# n_estimators = [int(x) for x in np.linspace(start = 200, stop = 2000, num = 10)]\n",
    "# # Maximum number of levels in tree\n",
    "# max_depth = [int(x) for x in np.linspace(10, 110, num = 11)]\n",
    "# max_depth.append(None)\n",
    "# # Minimum number of samples required to split a node\n",
    "# min_samples_split = [2, 5, 10]\n",
    "# # Minimum number of samples required at each leaf node\n",
    "# min_samples_leaf = [1, 2, 4]\n",
    "# # Method of selecting samples for training each tree\n",
    "# bootstrap = [True, False]\n",
    "# # Create the random grid\n",
    "# random_grid = {'n_estimators': n_estimators,\n",
    "#                'max_depth': max_depth,\n",
    "#                'min_samples_split': min_samples_split,\n",
    "#                'min_samples_leaf': min_samples_leaf,\n",
    "#                'bootstrap': bootstrap}\n",
    "# print(random_grid)"
   ]
  },
  {
   "cell_type": "code",
   "execution_count": null,
   "metadata": {},
   "outputs": [],
   "source": [
    "# Use the random grid to search for best hyperparameters\n",
    "# First create the base model to tune\n"
   ]
  },
  {
   "cell_type": "code",
   "execution_count": null,
   "metadata": {},
   "outputs": [],
   "source": [
    "rf_random.best_params_\n"
   ]
  },
  {
   "cell_type": "code",
   "execution_count": null,
   "metadata": {},
   "outputs": [],
   "source": [
    "# # Create the parameter grid based on the results of random search \n",
    "# param_grid = {\n",
    "#     'min_samples_leaf': [2, 4, 6],\n",
    "#     'min_samples_split': [2, 5, 6],\n",
    "#     'max_depth': [30,20,10],\n",
    "#     'n_estimators': [200, 300, 100],\n",
    "#     'bootstrap': [True]\n",
    "# }\n",
    "# # Create a based model\n",
    "# rf = RandomForestRegressor()\n",
    "# # Instantiate the grid search model\n",
    "# grid_search = GridSearchCV(estimator = rf, param_grid = param_grid, \n",
    "#                           cv = 3, n_jobs = -1, verbose = 4)\n",
    "# grid_search.fit(X_train_, y_train)"
   ]
  },
  {
   "cell_type": "code",
   "execution_count": null,
   "metadata": {},
   "outputs": [],
   "source": [
    "# grid_search.best_params_\n"
   ]
  },
  {
   "cell_type": "code",
   "execution_count": null,
   "metadata": {},
   "outputs": [],
   "source": []
  },
  {
   "cell_type": "code",
   "execution_count": null,
   "metadata": {},
   "outputs": [],
   "source": [
    "# # grid_search.best_params_\n",
    "# # best_grid = grid_search.best_estimator_\n",
    "# # meanSE, medianSE, stdSE, spearmanR, y_pred = evaluate(best_grid, X_test, y_test)\n",
    "# # print(meanSE, medianSE, stdSE, spearmanR)\n",
    "\n",
    "# grid_search.best_params_\n",
    "# best_grid = grid_search.best_estimator_\n",
    "# meanSE, medianSE, stdSE, spearmanR, y_pred = evaluate(best_grid, X_train_, y_train)\n",
    "# print(meanSE, medianSE, stdSE, spearmanR)"
   ]
  },
  {
   "cell_type": "code",
   "execution_count": null,
   "metadata": {},
   "outputs": [],
   "source": [
    "y_pred2=best_grid.predict(X_test_)\n",
    "print(y_pred2)\n",
    "for hh in y_pred2:\n",
    "    print(hh)"
   ]
  },
  {
   "cell_type": "code",
   "execution_count": 6,
   "metadata": {},
   "outputs": [
    {
     "ename": "NameError",
     "evalue": "name 'y_train' is not defined",
     "output_type": "error",
     "traceback": [
      "\u001b[0;31m---------------------------------------------------------------------------\u001b[0m",
      "\u001b[0;31mNameError\u001b[0m                                 Traceback (most recent call last)",
      "Input \u001b[0;32mIn [6]\u001b[0m, in \u001b[0;36m<cell line: 3>\u001b[0;34m()\u001b[0m\n\u001b[1;32m      1\u001b[0m y_test_v \u001b[38;5;241m=\u001b[39m []\n\u001b[1;32m      2\u001b[0m y_pred_v \u001b[38;5;241m=\u001b[39m []\n\u001b[0;32m----> 3\u001b[0m \u001b[38;5;28;01mfor\u001b[39;00m yi \u001b[38;5;129;01min\u001b[39;00m \u001b[43my_train\u001b[49m:\n\u001b[1;32m      4\u001b[0m     \u001b[38;5;28;01mif\u001b[39;00m (yi \u001b[38;5;241m<\u001b[39m \u001b[38;5;241m300\u001b[39m):\n\u001b[1;32m      5\u001b[0m         y_test_v\u001b[38;5;241m.\u001b[39mappend(\u001b[38;5;241m0\u001b[39m)\n",
      "\u001b[0;31mNameError\u001b[0m: name 'y_train' is not defined"
     ]
    }
   ],
   "source": [
    "       \n",
    "y_test_v = []\n",
    "y_pred_v = []\n",
    "for yi in y_train:\n",
    "    if (yi < 300):\n",
    "        y_test_v.append(0)\n",
    "    elif (yi >= 300 and yi < 450):\n",
    "        y_test_v.append(1)\n",
    "    else:\n",
    "        y_test_v.append(2)\n",
    "\n",
    "for yi in y_pred:\n",
    "    if (yi < 300):\n",
    "        y_pred_v.append(0)\n",
    "    elif (yi >= 300 and yi < 450):\n",
    "        y_pred_v.append(1)\n",
    "    else:\n",
    "        y_pred_v.append(2)\n",
    "        "
   ]
  },
  {
   "cell_type": "code",
   "execution_count": 7,
   "metadata": {},
   "outputs": [
    {
     "ename": "ValueError",
     "evalue": "zero-size array to reduction operation fmin which has no identity",
     "output_type": "error",
     "traceback": [
      "\u001b[0;31m---------------------------------------------------------------------------\u001b[0m",
      "\u001b[0;31mValueError\u001b[0m                                Traceback (most recent call last)",
      "Input \u001b[0;32mIn [7]\u001b[0m, in \u001b[0;36m<cell line: 7>\u001b[0;34m()\u001b[0m\n\u001b[1;32m      4\u001b[0m cm \u001b[38;5;241m=\u001b[39m confusion_matrix(y_test_v, y_pred_v)\n\u001b[1;32m      6\u001b[0m sns\u001b[38;5;241m.\u001b[39mset(font_scale\u001b[38;5;241m=\u001b[39m\u001b[38;5;241m1.2\u001b[39m) \n\u001b[0;32m----> 7\u001b[0m \u001b[43msns\u001b[49m\u001b[38;5;241;43m.\u001b[39;49m\u001b[43mheatmap\u001b[49m\u001b[43m(\u001b[49m\u001b[43mcm\u001b[49m\u001b[43m,\u001b[49m\u001b[43m \u001b[49m\u001b[43mannot\u001b[49m\u001b[38;5;241;43m=\u001b[39;49m\u001b[38;5;28;43;01mTrue\u001b[39;49;00m\u001b[43m,\u001b[49m\u001b[43m \u001b[49m\u001b[43mannot_kws\u001b[49m\u001b[38;5;241;43m=\u001b[39;49m\u001b[43m{\u001b[49m\u001b[38;5;124;43m\"\u001b[39;49m\u001b[38;5;124;43msize\u001b[39;49m\u001b[38;5;124;43m\"\u001b[39;49m\u001b[43m:\u001b[49m\u001b[43m \u001b[49m\u001b[38;5;241;43m12\u001b[39;49m\u001b[43m}\u001b[49m\u001b[43m)\u001b[49m \n\u001b[1;32m      9\u001b[0m plt\u001b[38;5;241m.\u001b[39mshow()\n",
      "File \u001b[0;32m~/anaconda3/lib/python3.9/site-packages/seaborn/_decorators.py:46\u001b[0m, in \u001b[0;36m_deprecate_positional_args.<locals>.inner_f\u001b[0;34m(*args, **kwargs)\u001b[0m\n\u001b[1;32m     36\u001b[0m     warnings\u001b[38;5;241m.\u001b[39mwarn(\n\u001b[1;32m     37\u001b[0m         \u001b[38;5;124m\"\u001b[39m\u001b[38;5;124mPass the following variable\u001b[39m\u001b[38;5;132;01m{}\u001b[39;00m\u001b[38;5;124m as \u001b[39m\u001b[38;5;132;01m{}\u001b[39;00m\u001b[38;5;124mkeyword arg\u001b[39m\u001b[38;5;132;01m{}\u001b[39;00m\u001b[38;5;124m: \u001b[39m\u001b[38;5;132;01m{}\u001b[39;00m\u001b[38;5;124m. \u001b[39m\u001b[38;5;124m\"\u001b[39m\n\u001b[1;32m     38\u001b[0m         \u001b[38;5;124m\"\u001b[39m\u001b[38;5;124mFrom version 0.12, the only valid positional argument \u001b[39m\u001b[38;5;124m\"\u001b[39m\n\u001b[0;32m   (...)\u001b[0m\n\u001b[1;32m     43\u001b[0m         \u001b[38;5;167;01mFutureWarning\u001b[39;00m\n\u001b[1;32m     44\u001b[0m     )\n\u001b[1;32m     45\u001b[0m kwargs\u001b[38;5;241m.\u001b[39mupdate({k: arg \u001b[38;5;28;01mfor\u001b[39;00m k, arg \u001b[38;5;129;01min\u001b[39;00m \u001b[38;5;28mzip\u001b[39m(sig\u001b[38;5;241m.\u001b[39mparameters, args)})\n\u001b[0;32m---> 46\u001b[0m \u001b[38;5;28;01mreturn\u001b[39;00m \u001b[43mf\u001b[49m\u001b[43m(\u001b[49m\u001b[38;5;241;43m*\u001b[39;49m\u001b[38;5;241;43m*\u001b[39;49m\u001b[43mkwargs\u001b[49m\u001b[43m)\u001b[49m\n",
      "File \u001b[0;32m~/anaconda3/lib/python3.9/site-packages/seaborn/matrix.py:540\u001b[0m, in \u001b[0;36mheatmap\u001b[0;34m(data, vmin, vmax, cmap, center, robust, annot, fmt, annot_kws, linewidths, linecolor, cbar, cbar_kws, cbar_ax, square, xticklabels, yticklabels, mask, ax, **kwargs)\u001b[0m\n\u001b[1;32m    362\u001b[0m \u001b[38;5;124;03m\"\"\"Plot rectangular data as a color-encoded matrix.\u001b[39;00m\n\u001b[1;32m    363\u001b[0m \n\u001b[1;32m    364\u001b[0m \u001b[38;5;124;03mThis is an Axes-level function and will draw the heatmap into the\u001b[39;00m\n\u001b[0;32m   (...)\u001b[0m\n\u001b[1;32m    537\u001b[0m \u001b[38;5;124;03m    ...     ax = sns.heatmap(corr, mask=mask, vmax=.3, square=True)\u001b[39;00m\n\u001b[1;32m    538\u001b[0m \u001b[38;5;124;03m\"\"\"\u001b[39;00m\n\u001b[1;32m    539\u001b[0m \u001b[38;5;66;03m# Initialize the plotter object\u001b[39;00m\n\u001b[0;32m--> 540\u001b[0m plotter \u001b[38;5;241m=\u001b[39m \u001b[43m_HeatMapper\u001b[49m\u001b[43m(\u001b[49m\u001b[43mdata\u001b[49m\u001b[43m,\u001b[49m\u001b[43m \u001b[49m\u001b[43mvmin\u001b[49m\u001b[43m,\u001b[49m\u001b[43m \u001b[49m\u001b[43mvmax\u001b[49m\u001b[43m,\u001b[49m\u001b[43m \u001b[49m\u001b[43mcmap\u001b[49m\u001b[43m,\u001b[49m\u001b[43m \u001b[49m\u001b[43mcenter\u001b[49m\u001b[43m,\u001b[49m\u001b[43m \u001b[49m\u001b[43mrobust\u001b[49m\u001b[43m,\u001b[49m\u001b[43m \u001b[49m\u001b[43mannot\u001b[49m\u001b[43m,\u001b[49m\u001b[43m \u001b[49m\u001b[43mfmt\u001b[49m\u001b[43m,\u001b[49m\n\u001b[1;32m    541\u001b[0m \u001b[43m                      \u001b[49m\u001b[43mannot_kws\u001b[49m\u001b[43m,\u001b[49m\u001b[43m \u001b[49m\u001b[43mcbar\u001b[49m\u001b[43m,\u001b[49m\u001b[43m \u001b[49m\u001b[43mcbar_kws\u001b[49m\u001b[43m,\u001b[49m\u001b[43m \u001b[49m\u001b[43mxticklabels\u001b[49m\u001b[43m,\u001b[49m\n\u001b[1;32m    542\u001b[0m \u001b[43m                      \u001b[49m\u001b[43myticklabels\u001b[49m\u001b[43m,\u001b[49m\u001b[43m \u001b[49m\u001b[43mmask\u001b[49m\u001b[43m)\u001b[49m\n\u001b[1;32m    544\u001b[0m \u001b[38;5;66;03m# Add the pcolormesh kwargs here\u001b[39;00m\n\u001b[1;32m    545\u001b[0m kwargs[\u001b[38;5;124m\"\u001b[39m\u001b[38;5;124mlinewidths\u001b[39m\u001b[38;5;124m\"\u001b[39m] \u001b[38;5;241m=\u001b[39m linewidths\n",
      "File \u001b[0;32m~/anaconda3/lib/python3.9/site-packages/seaborn/matrix.py:159\u001b[0m, in \u001b[0;36m_HeatMapper.__init__\u001b[0;34m(self, data, vmin, vmax, cmap, center, robust, annot, fmt, annot_kws, cbar, cbar_kws, xticklabels, yticklabels, mask)\u001b[0m\n\u001b[1;32m    156\u001b[0m \u001b[38;5;28mself\u001b[39m\u001b[38;5;241m.\u001b[39mylabel \u001b[38;5;241m=\u001b[39m ylabel \u001b[38;5;28;01mif\u001b[39;00m ylabel \u001b[38;5;129;01mis\u001b[39;00m \u001b[38;5;129;01mnot\u001b[39;00m \u001b[38;5;28;01mNone\u001b[39;00m \u001b[38;5;28;01melse\u001b[39;00m \u001b[38;5;124m\"\u001b[39m\u001b[38;5;124m\"\u001b[39m\n\u001b[1;32m    158\u001b[0m \u001b[38;5;66;03m# Determine good default values for the colormapping\u001b[39;00m\n\u001b[0;32m--> 159\u001b[0m \u001b[38;5;28;43mself\u001b[39;49m\u001b[38;5;241;43m.\u001b[39;49m\u001b[43m_determine_cmap_params\u001b[49m\u001b[43m(\u001b[49m\u001b[43mplot_data\u001b[49m\u001b[43m,\u001b[49m\u001b[43m \u001b[49m\u001b[43mvmin\u001b[49m\u001b[43m,\u001b[49m\u001b[43m \u001b[49m\u001b[43mvmax\u001b[49m\u001b[43m,\u001b[49m\n\u001b[1;32m    160\u001b[0m \u001b[43m                            \u001b[49m\u001b[43mcmap\u001b[49m\u001b[43m,\u001b[49m\u001b[43m \u001b[49m\u001b[43mcenter\u001b[49m\u001b[43m,\u001b[49m\u001b[43m \u001b[49m\u001b[43mrobust\u001b[49m\u001b[43m)\u001b[49m\n\u001b[1;32m    162\u001b[0m \u001b[38;5;66;03m# Sort out the annotations\u001b[39;00m\n\u001b[1;32m    163\u001b[0m \u001b[38;5;28;01mif\u001b[39;00m annot \u001b[38;5;129;01mis\u001b[39;00m \u001b[38;5;28;01mNone\u001b[39;00m \u001b[38;5;129;01mor\u001b[39;00m annot \u001b[38;5;129;01mis\u001b[39;00m \u001b[38;5;28;01mFalse\u001b[39;00m:\n",
      "File \u001b[0;32m~/anaconda3/lib/python3.9/site-packages/seaborn/matrix.py:198\u001b[0m, in \u001b[0;36m_HeatMapper._determine_cmap_params\u001b[0;34m(self, plot_data, vmin, vmax, cmap, center, robust)\u001b[0m\n\u001b[1;32m    196\u001b[0m         vmin \u001b[38;5;241m=\u001b[39m np\u001b[38;5;241m.\u001b[39mnanpercentile(calc_data, \u001b[38;5;241m2\u001b[39m)\n\u001b[1;32m    197\u001b[0m     \u001b[38;5;28;01melse\u001b[39;00m:\n\u001b[0;32m--> 198\u001b[0m         vmin \u001b[38;5;241m=\u001b[39m \u001b[43mnp\u001b[49m\u001b[38;5;241;43m.\u001b[39;49m\u001b[43mnanmin\u001b[49m\u001b[43m(\u001b[49m\u001b[43mcalc_data\u001b[49m\u001b[43m)\u001b[49m\n\u001b[1;32m    199\u001b[0m \u001b[38;5;28;01mif\u001b[39;00m vmax \u001b[38;5;129;01mis\u001b[39;00m \u001b[38;5;28;01mNone\u001b[39;00m:\n\u001b[1;32m    200\u001b[0m     \u001b[38;5;28;01mif\u001b[39;00m robust:\n",
      "File \u001b[0;32m<__array_function__ internals>:180\u001b[0m, in \u001b[0;36mnanmin\u001b[0;34m(*args, **kwargs)\u001b[0m\n",
      "File \u001b[0;32m~/anaconda3/lib/python3.9/site-packages/numpy/lib/nanfunctions.py:344\u001b[0m, in \u001b[0;36mnanmin\u001b[0;34m(a, axis, out, keepdims, initial, where)\u001b[0m\n\u001b[1;32m    339\u001b[0m     kwargs[\u001b[38;5;124m'\u001b[39m\u001b[38;5;124mwhere\u001b[39m\u001b[38;5;124m'\u001b[39m] \u001b[38;5;241m=\u001b[39m where\n\u001b[1;32m    341\u001b[0m \u001b[38;5;28;01mif\u001b[39;00m \u001b[38;5;28mtype\u001b[39m(a) \u001b[38;5;129;01mis\u001b[39;00m np\u001b[38;5;241m.\u001b[39mndarray \u001b[38;5;129;01mand\u001b[39;00m a\u001b[38;5;241m.\u001b[39mdtype \u001b[38;5;241m!=\u001b[39m np\u001b[38;5;241m.\u001b[39mobject_:\n\u001b[1;32m    342\u001b[0m     \u001b[38;5;66;03m# Fast, but not safe for subclasses of ndarray, or object arrays,\u001b[39;00m\n\u001b[1;32m    343\u001b[0m     \u001b[38;5;66;03m# which do not implement isnan (gh-9009), or fmin correctly (gh-8975)\u001b[39;00m\n\u001b[0;32m--> 344\u001b[0m     res \u001b[38;5;241m=\u001b[39m \u001b[43mnp\u001b[49m\u001b[38;5;241;43m.\u001b[39;49m\u001b[43mfmin\u001b[49m\u001b[38;5;241;43m.\u001b[39;49m\u001b[43mreduce\u001b[49m\u001b[43m(\u001b[49m\u001b[43ma\u001b[49m\u001b[43m,\u001b[49m\u001b[43m \u001b[49m\u001b[43maxis\u001b[49m\u001b[38;5;241;43m=\u001b[39;49m\u001b[43maxis\u001b[49m\u001b[43m,\u001b[49m\u001b[43m \u001b[49m\u001b[43mout\u001b[49m\u001b[38;5;241;43m=\u001b[39;49m\u001b[43mout\u001b[49m\u001b[43m,\u001b[49m\u001b[43m \u001b[49m\u001b[38;5;241;43m*\u001b[39;49m\u001b[38;5;241;43m*\u001b[39;49m\u001b[43mkwargs\u001b[49m\u001b[43m)\u001b[49m\n\u001b[1;32m    345\u001b[0m     \u001b[38;5;28;01mif\u001b[39;00m np\u001b[38;5;241m.\u001b[39misnan(res)\u001b[38;5;241m.\u001b[39many():\n\u001b[1;32m    346\u001b[0m         warnings\u001b[38;5;241m.\u001b[39mwarn(\u001b[38;5;124m\"\u001b[39m\u001b[38;5;124mAll-NaN slice encountered\u001b[39m\u001b[38;5;124m\"\u001b[39m, \u001b[38;5;167;01mRuntimeWarning\u001b[39;00m,\n\u001b[1;32m    347\u001b[0m                       stacklevel\u001b[38;5;241m=\u001b[39m\u001b[38;5;241m3\u001b[39m)\n",
      "\u001b[0;31mValueError\u001b[0m: zero-size array to reduction operation fmin which has no identity"
     ]
    }
   ],
   "source": [
    "from sklearn.metrics import confusion_matrix\n",
    "\n",
    "\n",
    "cm = confusion_matrix(y_test_v, y_pred_v)\n",
    "\n",
    "sns.set(font_scale=1.2) \n",
    "sns.heatmap(cm, annot=True, annot_kws={\"size\": 12}) \n",
    "\n",
    "plt.show()"
   ]
  },
  {
   "cell_type": "code",
   "execution_count": 36,
   "metadata": {},
   "outputs": [
    {
     "name": "stdout",
     "output_type": "stream",
     "text": [
      "              precision    recall  f1-score   support\n",
      "\n",
      "           0       1.00      0.32      0.48        41\n",
      "           1       0.42      0.73      0.53        30\n",
      "           2       0.75      0.83      0.78        46\n",
      "\n",
      "    accuracy                           0.62       117\n",
      "   macro avg       0.72      0.63      0.60       117\n",
      "weighted avg       0.75      0.62      0.61       117\n",
      "\n"
     ]
    }
   ],
   "source": [
    "from sklearn.metrics import classification_report\n",
    "\n",
    "print(classification_report(y_test_v, y_pred_v))"
   ]
  },
  {
   "cell_type": "code",
   "execution_count": null,
   "metadata": {},
   "outputs": [],
   "source": []
  }
 ],
 "metadata": {
  "kernelspec": {
   "display_name": "Python 3 (ipykernel)",
   "language": "python",
   "name": "python3"
  },
  "language_info": {
   "codemirror_mode": {
    "name": "ipython",
    "version": 3
   },
   "file_extension": ".py",
   "mimetype": "text/x-python",
   "name": "python",
   "nbconvert_exporter": "python",
   "pygments_lexer": "ipython3",
   "version": "3.9.12"
  }
 },
 "nbformat": 4,
 "nbformat_minor": 2
}
