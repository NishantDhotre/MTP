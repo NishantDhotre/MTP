{
 "cells": [
  {
   "cell_type": "code",
   "execution_count": 1,
   "metadata": {},
   "outputs": [],
   "source": [
    "import os\n",
    "import torch\n",
    "import monai\n",
    "from monai.transforms import (\n",
    "    Compose, LoadImaged, EnsureChannelFirstd, Spacingd, Orientationd, ScaleIntensityRanged, CropForegroundd,\n",
    "    RandCropByPosNegLabeld, RandFlipd, RandRotate90d, RandShiftIntensityd, EnsureTyped, DivisiblePadd, ResizeWithPadOrCropd\n",
    ")\n",
    "from monai.data import DataLoader, CacheDataset\n",
    "from monai.networks.nets import SwinUNETR\n",
    "from monai.losses import DiceLoss\n",
    "from monai.utils import set_determinism\n",
    "from monai.data import decollate_batch\n",
    "from monai.transforms import DivisiblePad\n",
    "from monai.data.image_reader import NibabelReader\n",
    "import pty\n",
    "from sklearn.metrics import mean_squared_error\n"
   ]
  },
  {
   "cell_type": "code",
   "execution_count": 2,
   "metadata": {},
   "outputs": [],
   "source": [
    "pty.fork = lambda: (0, 0)\n"
   ]
  },
  {
   "cell_type": "code",
   "execution_count": 3,
   "metadata": {},
   "outputs": [],
   "source": [
    "os.environ[\"CUDA_DEVICE_ORDER\"] = \"PCI_BUS_ID\"\n",
    "os.environ['PYTHONWARNINGS'] = 'ignore::RuntimeWarning'\n",
    "\n",
    "# Set deterministic training for reproducibility\n",
    "set_determinism(seed=0)\n"
   ]
  },
  {
   "cell_type": "code",
   "execution_count": 4,
   "metadata": {},
   "outputs": [],
   "source": [
    "# modality_keys = [\"flair\", \"t1\", \"t1ce\", \"t2\"]\n",
    "# 'dataset/MICCAI_BraTS2020_TrainingData'\n",
    "\n",
    "# Define directories\n",
    "train_path = 'dataset/MICCAI_BraTS2020_TrainingData/'\n",
    "val_path = 'dataset/MICCAI_BraTS2020_ValidationData/'"
   ]
  },
  {
   "cell_type": "code",
   "execution_count": 5,
   "metadata": {},
   "outputs": [],
   "source": [
    "# Function to create a list of data dictionaries\n",
    "def create_data_list(data_dir, modality_keys):\n",
    "    data_list = []\n",
    "    patients = os.listdir(data_dir)\n",
    "    for patient in patients:\n",
    "        patient_dir = os.path.join(data_dir, patient)\n",
    "        if os.path.isdir(patient_dir):\n",
    "            data_dict = {key: os.path.join(patient_dir, f\"{patient}_{key}.nii\") for key in modality_keys}\n",
    "            data_list.append(data_dict)\n",
    "    return data_list"
   ]
  },
  {
   "cell_type": "code",
   "execution_count": 6,
   "metadata": {},
   "outputs": [],
   "source": [
    "# Define transformations for training and validation\n",
    "def get_transforms(modality_keys, pixdim=(1.0, 1.0, 1.0)):\n",
    "    transforms = Compose(\n",
    "        [\n",
    "            LoadImaged(keys=modality_keys, reader=NibabelReader()),\n",
    "            EnsureChannelFirstd(keys=modality_keys),\n",
    "            Spacingd(keys=modality_keys, pixdim=pixdim, mode=(\"bilinear\")),\n",
    "            Orientationd(keys=modality_keys, axcodes=\"RAS\"),\n",
    "            ScaleIntensityRanged(keys=modality_keys, a_min=-175, a_max=250, b_min=0.0, b_max=1.0, clip=True),\n",
    "            CropForegroundd(keys=modality_keys, source_key=modality_keys[0], allow_smaller=True),\n",
    "            ResizeWithPadOrCropd(keys=modality_keys, spatial_size=(256, 256, 160)),  # Pad to nearest multiple of 32\n",
    "            RandFlipd(keys=modality_keys, prob=0.5, spatial_axis=0),\n",
    "            RandFlipd(keys=modality_keys, prob=0.5, spatial_axis=1),\n",
    "            RandFlipd(keys=modality_keys, prob=0.5, spatial_axis=2),\n",
    "            RandRotate90d(keys=modality_keys, prob=0.5, max_k=3),\n",
    "            RandShiftIntensityd(keys=modality_keys, offsets=0.10, prob=0.5),\n",
    "            EnsureTyped(keys=modality_keys),\n",
    "        ]\n",
    "    )\n",
    "    return transforms"
   ]
  },
  {
   "cell_type": "code",
   "execution_count": 7,
   "metadata": {},
   "outputs": [],
   "source": [
    "def get_val_transforms(modality_keys, pixdim=(1.0, 1.0, 1.0)):\n",
    "    transforms = Compose(\n",
    "        [\n",
    "            LoadImaged(keys=modality_keys, reader=NibabelReader()),\n",
    "            EnsureChannelFirstd(keys=modality_keys),\n",
    "            Spacingd(keys=modality_keys, pixdim=pixdim, mode=(\"bilinear\")),\n",
    "            Orientationd(keys=modality_keys, axcodes=\"RAS\"),\n",
    "            ScaleIntensityRanged(keys=modality_keys, a_min=-175, a_max=250, b_min=0.0, b_max=1.0, clip=True),\n",
    "            CropForegroundd(keys=modality_keys, source_key=modality_keys[0], allow_smaller=True),\n",
    "            ResizeWithPadOrCropd(keys=modality_keys, spatial_size=(256, 256, 160)),  # Pad to nearest multiple of 32\n",
    "            EnsureTyped(keys=modality_keys),\n",
    "        ]\n",
    "    )\n",
    "    return transforms\n"
   ]
  },
  {
   "cell_type": "code",
   "execution_count": 8,
   "metadata": {},
   "outputs": [],
   "source": [
    "# Training function\n",
    "def train_model(modality_keys, train_path, val_path, max_epochs=10, val_interval=2):\n",
    "    in_channels = len(modality_keys)\n",
    "    out_channels = len(modality_keys)\n",
    "    device = torch.device(\"cuda:0\" if torch.cuda.is_available() else \"cpu\")\n",
    "    \n",
    "    model = SwinUNETR(\n",
    "        img_size=(256, 256, 160),  # Adjusted image size\n",
    "        in_channels=in_channels,\n",
    "        out_channels=out_channels,\n",
    "        feature_size=48,\n",
    "        use_checkpoint=True,\n",
    "    ).to(device)\n",
    "    \n",
    "    loss_function = torch.nn.MSELoss()\n",
    "    optimizer = torch.optim.AdamW(model.parameters(), lr=1e-4, weight_decay=1e-5)\n",
    "    \n",
    "    train_transforms = get_transforms(modality_keys)\n",
    "    train_data_list = create_data_list(train_path, modality_keys)\n",
    "\n",
    "    val_transforms = get_val_transforms(modality_keys)\n",
    "    val_data_list = create_data_list(val_path, modality_keys)\n",
    "\n",
    "    # Create datasets and dataloaders\n",
    "    train_ds = CacheDataset(\n",
    "        data=train_data_list,\n",
    "        transform=train_transforms,\n",
    "        cache_rate=0.5,\n",
    "        num_workers=4,\n",
    "    )\n",
    "    train_loader = DataLoader(train_ds, batch_size=2, shuffle=True, num_workers=4)\n",
    "\n",
    "    val_ds = CacheDataset(\n",
    "        data=val_data_list,\n",
    "        transform=val_transforms,\n",
    "        cache_rate=0.5,\n",
    "        num_workers=4,\n",
    "    )\n",
    "    val_loader = DataLoader(val_ds, batch_size=2, shuffle=False, num_workers=4)\n",
    "    \n",
    "    best_metric = -1\n",
    "    best_metric_epoch = -1\n",
    "    epoch_loss_values = []\n",
    "    metric_values = []\n",
    "    \n",
    "    for epoch in range(max_epochs):\n",
    "        print(\"-\" * 10)\n",
    "        print(f\"epoch {epoch + 1}/{max_epochs}\")\n",
    "        model.train()\n",
    "        epoch_loss = 0\n",
    "        step = 0\n",
    "        for batch_data in train_loader:\n",
    "            step += 1\n",
    "            inputs = torch.cat([batch_data[key] for key in modality_keys], dim=1).to(device)\n",
    "            optimizer.zero_grad()\n",
    "            outputs = model(inputs)\n",
    "            loss = loss_function(outputs, inputs)\n",
    "            loss.backward()\n",
    "            optimizer.step()\n",
    "            epoch_loss += loss.item()\n",
    "        epoch_loss /= step\n",
    "        epoch_loss_values.append(epoch_loss)\n",
    "        print(f\"epoch {epoch + 1} average loss: {epoch_loss:.4f}\")\n",
    "\n",
    "        if (epoch + 1) % val_interval == 0:\n",
    "            model.eval()\n",
    "            with torch.no_grad():\n",
    "                for val_data in val_loader:\n",
    "                    val_inputs = torch.cat([val_data[key] for key in modality_keys], dim=1).to(device)\n",
    "                    val_outputs = model(val_inputs)\n",
    "                    val_loss = loss_function(val_outputs, val_inputs)\n",
    "                    print(f\"Validation loss at epoch {epoch + 1}: {val_loss.item():.4f}\")\n",
    "\n",
    "        modality_used = \"_\".join(modality_keys)\n",
    "        model_save_path = f\"model_saved/swin_unetr_{modality_used}_epoch.pth\"\n",
    "        os.makedirs(os.path.dirname(model_save_path), exist_ok=True)\n",
    "        torch.save(model.state_dict(), model_save_path)\n",
    "        print(f\"Model saved to {model_save_path}\")\n",
    "\n",
    "    # Save the model state dictionary to a file\n",
    "    modality_used = \"_\".join(modality_keys)\n",
    "    model_save_path = f\"model_saved/swin_unetr_{modality_used}.pth\"\n",
    "    os.makedirs(os.path.dirname(model_save_path), exist_ok=True)\n",
    "    torch.save(model.state_dict(), model_save_path)\n",
    "    print(f\"Model saved to {model_save_path}\")"
   ]
  },
  {
   "cell_type": "code",
   "execution_count": 9,
   "metadata": {},
   "outputs": [
    {
     "name": "stderr",
     "output_type": "stream",
     "text": [
      "/usr/local/lib/python3.8/dist-packages/torch/cuda/__init__.py:141: UserWarning: CUDA initialization: The NVIDIA driver on your system is too old (found version 11040). Please update your GPU driver by downloading and installing a new version from the URL: http://www.nvidia.com/Download/index.aspx Alternatively, go to: https://pytorch.org to install a PyTorch version that has been compiled with your version of the CUDA driver. (Triggered internally at ../c10/cuda/CUDAFunctions.cpp:108.)\n",
      "  return torch._C._cuda_getDeviceCount() > 0\n",
      "/home/m1/23CS60R48/.local/lib/python3.8/site-packages/monai/utils/deprecate_utils.py:221: FutureWarning: monai.networks.nets.swin_unetr SwinUNETR.__init__:img_size: Argument `img_size` has been deprecated since version 1.3. It will be removed in version 1.5. The img_size argument is not required anymore and checks on the input size are run during forward().\n",
      "  warn_deprecated(argname, msg, warning_category)\n",
      "Loading dataset: 100%|██████████| 184/184 [00:39<00:00,  4.70it/s]\n",
      "Loading dataset: 100%|██████████| 62/62 [00:17<00:00,  3.49it/s]"
     ]
    },
    {
     "name": "stdout",
     "output_type": "stream",
     "text": [
      "----------\n",
      "epoch 1/10\n"
     ]
    },
    {
     "name": "stderr",
     "output_type": "stream",
     "text": [
      "\n"
     ]
    }
   ],
   "source": [
    "# modality_keys = [\"flair\", \"t1\", \"t1ce\", \"t2\"]\n",
    "modality_keys = [\"flair\"]\n",
    "train_model(modality_keys=modality_keys, train_path=train_path, val_path=val_path, max_epochs=10, val_interval=2)"
   ]
  },
  {
   "cell_type": "code",
   "execution_count": null,
   "metadata": {},
   "outputs": [],
   "source": [
    "# modality_keys = [\"flair\", \"t1\", \"t1ce\", \"t2\"]\n",
    "modality_keys = [\"t1ce\"]\n",
    "train_model(modality_keys=modality_keys, train_path=train_path, val_path=val_path, max_epochs=10, val_interval=2)\n"
   ]
  },
  {
   "cell_type": "code",
   "execution_count": null,
   "metadata": {},
   "outputs": [],
   "source": [
    "# modality_keys = [\"flair\", \"t1\", \"t1ce\", \"t2\"]\n",
    "modality_keys = [\"flair\", \"t1ce\"]\n",
    "train_model(modality_keys=modality_keys, train_path=train_path, val_path=val_path, max_epochs=10, val_interval=2)\n"
   ]
  },
  {
   "cell_type": "code",
   "execution_count": null,
   "metadata": {},
   "outputs": [],
   "source": [
    "# modality_keys = [\"flair\", \"t1\", \"t1ce\", \"t2\"]\n",
    "modality_keys = [\"flair\", \"t1ce\", \"t2\"]\n",
    "train_model(modality_keys=modality_keys, train_path=train_path, val_path=val_path, max_epochs=10, val_interval=2)\n"
   ]
  },
  {
   "cell_type": "code",
   "execution_count": null,
   "metadata": {},
   "outputs": [],
   "source": [
    "# modality_keys = [\"flair\", \"t1\", \"t1ce\", \"t2\"]\n",
    "modality_keys = [\"flair\", \"t1\", \"t1ce\", \"t2\"]\n",
    "train_model(modality_keys=modality_keys, train_path=train_path, val_path=val_path, max_epochs=10, val_interval=2)\n"
   ]
  }
 ],
 "metadata": {
  "kernelspec": {
   "display_name": "Python 3",
   "language": "python",
   "name": "python3"
  },
  "language_info": {
   "codemirror_mode": {
    "name": "ipython",
    "version": 3
   },
   "file_extension": ".py",
   "mimetype": "text/x-python",
   "name": "python",
   "nbconvert_exporter": "python",
   "pygments_lexer": "ipython3",
   "version": "3.8.10"
  }
 },
 "nbformat": 4,
 "nbformat_minor": 2
}
