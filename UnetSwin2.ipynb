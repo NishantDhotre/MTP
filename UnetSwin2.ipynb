{
 "cells": [
  {
   "cell_type": "code",
   "execution_count": 11,
   "metadata": {},
   "outputs": [],
   "source": [
    "import os\n",
    "import torch\n",
    "import monai\n",
    "from monai.transforms import (\n",
    "    Compose, LoadImaged, EnsureChannelFirstd, Spacingd, Orientationd, ScaleIntensityRanged, CropForegroundd,\n",
    "    RandFlipd, RandRotate90d, RandShiftIntensityd, EnsureTyped, ResizeWithPadOrCropd\n",
    ")\n",
    "from monai.data import DataLoader, CacheDataset\n",
    "from monai.networks.nets import SwinUNETR\n",
    "from monai.utils import set_determinism\n",
    "from monai.data.image_reader import NibabelReader\n",
    "from torch.cuda.amp import autocast, GradScaler\n",
    "import pty\n",
    "import numpy as np\n",
    "import einops"
   ]
  },
  {
   "cell_type": "code",
   "execution_count": 12,
   "metadata": {},
   "outputs": [],
   "source": [
    "pty.fork = lambda: (0, 0)\n",
    "\n",
    "os.environ[\"CUDA_DEVICE_ORDER\"] = \"PCI_BUS_ID\"\n",
    "os.environ['PYTHONWARNINGS'] = 'ignore::RuntimeWarning'\n",
    "\n",
    "# Set deterministic training for reproducibility\n",
    "set_determinism(seed=0)\n",
    "\n"
   ]
  },
  {
   "cell_type": "code",
   "execution_count": 13,
   "metadata": {},
   "outputs": [],
   "source": [
    "# Define directories\n",
    "train_path = 'dataset/MICCAI_BraTS2020_TrainingData/'\n",
    "val_path = 'dataset/MICCAI_BraTS2020_ValidationData/'"
   ]
  },
  {
   "cell_type": "code",
   "execution_count": 14,
   "metadata": {},
   "outputs": [],
   "source": [
    "# Set deterministic training for reproducibility\n",
    "def set_seed(seed):\n",
    "    np.random.seed(seed)\n",
    "    torch.manual_seed(seed)\n",
    "    if torch.cuda.is_available():\n",
    "        torch.cuda.manual_seed_all(seed)\n",
    "\n",
    "set_seed(0)"
   ]
  },
  {
   "cell_type": "code",
   "execution_count": 15,
   "metadata": {},
   "outputs": [],
   "source": [
    "\n",
    "# Function to create a list of data dictionaries\n",
    "def create_data_list(data_dir, modality_keys):\n",
    "    data_list = []\n",
    "    patients = os.listdir(data_dir)\n",
    "    for patient in patients:\n",
    "        patient_dir = os.path.join(data_dir, patient)\n",
    "        if os.path.isdir(patient_dir):\n",
    "            data_dict = {key: os.path.join(patient_dir, f\"{patient}_{key}.nii\") for key in modality_keys}\n",
    "            data_list.append(data_dict)\n",
    "    return data_list\n"
   ]
  },
  {
   "cell_type": "code",
   "execution_count": 16,
   "metadata": {},
   "outputs": [],
   "source": [
    "# Define transformations for training and validation\n",
    "def get_transforms(modality_keys, pixdim=(1.0, 1.0, 1.0)):\n",
    "    transforms = Compose(\n",
    "        [\n",
    "            LoadImaged(keys=modality_keys, reader=NibabelReader()),\n",
    "            EnsureChannelFirstd(keys=modality_keys),\n",
    "            Spacingd(keys=modality_keys, pixdim=pixdim, mode=(\"bilinear\")),\n",
    "            Orientationd(keys=modality_keys, axcodes=\"RAS\"),\n",
    "            ScaleIntensityRanged(keys=modality_keys, a_min=-175, a_max=250, b_min=0.0, b_max=1.0, clip=True),\n",
    "            CropForegroundd(keys=modality_keys, source_key=modality_keys[0], allow_smaller=True),\n",
    "            ResizeWithPadOrCropd(keys=modality_keys, spatial_size=(256, 256, 160)),  # Pad to nearest multiple of 32\n",
    "            RandFlipd(keys=modality_keys, prob=0.5, spatial_axis=0),\n",
    "            RandFlipd(keys=modality_keys, prob=0.5, spatial_axis=1),\n",
    "            RandFlipd(keys=modality_keys, prob=0.5, spatial_axis=2),\n",
    "            RandRotate90d(keys=modality_keys, prob=0.5, max_k=3),\n",
    "            RandShiftIntensityd(keys=modality_keys, offsets=0.10, prob=0.5),\n",
    "            EnsureTyped(keys=modality_keys),\n",
    "        ]\n",
    "    )\n",
    "    return transforms"
   ]
  },
  {
   "cell_type": "code",
   "execution_count": 17,
   "metadata": {},
   "outputs": [],
   "source": [
    "def get_val_transforms(modality_keys, pixdim=(1.0, 1.0, 1.0)):\n",
    "    transforms = Compose(\n",
    "        [\n",
    "            LoadImaged(keys=modality_keys, reader=NibabelReader()),\n",
    "            EnsureChannelFirstd(keys=modality_keys),\n",
    "            Spacingd(keys=modality_keys, pixdim=pixdim, mode=(\"bilinear\")),\n",
    "            Orientationd(keys=modality_keys, axcodes=\"RAS\"),\n",
    "            ScaleIntensityRanged(keys=modality_keys, a_min=-175, a_max=250, b_min=0.0, b_max=1.0, clip=True),\n",
    "            CropForegroundd(keys=modality_keys, source_key=modality_keys[0], allow_smaller=True),\n",
    "            ResizeWithPadOrCropd(keys=modality_keys, spatial_size=(256, 256, 160)),  # Pad to nearest multiple of 32\n",
    "            EnsureTyped(keys=modality_keys),\n",
    "        ]\n",
    "    )\n",
    "    return transforms"
   ]
  },
  {
   "cell_type": "code",
   "execution_count": 18,
   "metadata": {},
   "outputs": [],
   "source": [
    "# Training function\n",
    "def train_model(modality_keys, train_path, val_path, max_epochs=10, val_interval=2):\n",
    "    in_channels = len(modality_keys)\n",
    "    out_channels = len(modality_keys)\n",
    "    device = torch.device(\"cuda:0\" if torch.cuda.is_available() else \"cpu\")\n",
    "    \n",
    "    model = SwinUNETR(\n",
    "        img_size=(256, 256, 160),\n",
    "        in_channels=in_channels,\n",
    "        out_channels=out_channels,\n",
    "        feature_size=48,\n",
    "        use_checkpoint=True,\n",
    "    ).to(device)\n",
    "    \n",
    "    loss_function = torch.nn.MSELoss()\n",
    "    optimizer = torch.optim.AdamW(model.parameters(), lr=1e-4, weight_decay=1e-5)\n",
    "    scaler = GradScaler()\n",
    "\n",
    "    train_transforms = get_transforms(modality_keys)\n",
    "    train_data_list = create_data_list(train_path, modality_keys)\n",
    "\n",
    "    val_transforms = get_val_transforms(modality_keys)\n",
    "    val_data_list = create_data_list(val_path, modality_keys)\n",
    "\n",
    "    # Create datasets and dataloaders\n",
    "    train_ds = CacheDataset(\n",
    "        data=train_data_list,\n",
    "        transform=train_transforms,\n",
    "        cache_rate=0.5,\n",
    "        num_workers=8,\n",
    "    )\n",
    "    train_loader = DataLoader(train_ds, batch_size=2, shuffle=True, num_workers=8, pin_memory=True)\n",
    "\n",
    "    val_ds = CacheDataset(\n",
    "        data=val_data_list,\n",
    "        transform=val_transforms,\n",
    "        cache_rate=0.5,\n",
    "        num_workers=8,\n",
    "    )\n",
    "    val_loader = DataLoader(val_ds, batch_size=2, shuffle=False, num_workers=8, pin_memory=True)\n",
    "    \n",
    "    best_metric = float('inf')\n",
    "    best_metric_epoch = -1\n",
    "    epoch_loss_values = []\n",
    "    \n",
    "    for epoch in range(max_epochs):\n",
    "        print(\"-\" * 10)\n",
    "        print(f\"epoch {epoch + 1}/{max_epochs}\")\n",
    "        model.train()\n",
    "        epoch_loss = 0\n",
    "        step = 0\n",
    "        curr_batch = 1\n",
    "        for batch_data in train_loader:\n",
    "            print(f\"batch {curr_batch} started!\")\n",
    "            step += 1\n",
    "            curr_batch += 1\n",
    "            inputs = torch.cat([batch_data[key] for key in modality_keys], dim=1).to(device)\n",
    "            optimizer.zero_grad()\n",
    "            with autocast():\n",
    "                outputs = model(inputs)\n",
    "                loss = loss_function(outputs, inputs)\n",
    "            scaler.scale(loss).backward()\n",
    "            scaler.step(optimizer)\n",
    "            scaler.update()\n",
    "            epoch_loss += loss.item()\n",
    "        epoch_loss /= step\n",
    "        epoch_loss_values.append(epoch_loss)\n",
    "        print(f\"epoch {epoch + 1} average loss: {epoch_loss:.4f}\")\n",
    "\n",
    "        if (epoch + 1) % val_interval == 0:\n",
    "            model.eval()\n",
    "            with torch.no_grad():\n",
    "                val_loss = 0\n",
    "                for val_data in val_loader:\n",
    "                    val_inputs = torch.cat([val_data[key] for key in modality_keys], dim=1).to(device)\n",
    "                    val_outputs = model(val_inputs)\n",
    "                    val_loss += loss_function(val_outputs, val_inputs).item()\n",
    "                val_loss /= len(val_loader)\n",
    "                print(f\"Validation loss at epoch {epoch + 1}: {val_loss:.4f}\")\n",
    "\n",
    "                if val_loss < best_metric:\n",
    "                    best_metric = val_loss\n",
    "                    best_metric_epoch = epoch + 1\n",
    "                    modality_used = \"_\".join(modality_keys)\n",
    "                    model_save_path = f\"model_saved/swin_unetr_{modality_used}_best.pth\"\n",
    "                    os.makedirs(os.path.dirname(model_save_path), exist_ok=True)\n",
    "                    torch.save(model.state_dict(), model_save_path)\n",
    "                    print(f\"Model saved to {model_save_path} with validation loss: {best_metric:.4f}\")\n",
    "\n",
    "    print(f\"Training completed, best validation loss: {best_metric:.4f} at epoch {best_metric_epoch}\")\n",
    "    "
   ]
  },
  {
   "cell_type": "code",
   "execution_count": 19,
   "metadata": {},
   "outputs": [],
   "source": [
    "  \n",
    "# Run the training process with different sets of modalities\n",
    "modality_keys_list = [\n",
    "    [\"flair\"],\n",
    "    [\"t1ce\"],\n",
    "    [\"flair\", \"t1ce\"],\n",
    "    [\"flair\", \"t1ce\", \"t2\"],\n",
    "    [\"flair\", \"t1\", \"t1ce\", \"t2\"]\n",
    "]"
   ]
  },
  {
   "cell_type": "code",
   "execution_count": 20,
   "metadata": {},
   "outputs": [
    {
     "name": "stderr",
     "output_type": "stream",
     "text": [
      "/home/m1/23CS60R48/MTP/.venv/lib/python3.10/site-packages/torch/amp/grad_scaler.py:131: UserWarning: torch.cuda.amp.GradScaler is enabled, but CUDA is not available.  Disabling.\n",
      "  warnings.warn(\n",
      "Loading dataset: 100%|██████████| 184/184 [00:09<00:00, 19.91it/s]\n",
      "Loading dataset: 100%|██████████| 62/62 [00:03<00:00, 20.51it/s]"
     ]
    },
    {
     "name": "stdout",
     "output_type": "stream",
     "text": [
      "----------\n",
      "epoch 1/10\n"
     ]
    },
    {
     "name": "stderr",
     "output_type": "stream",
     "text": [
      "\n"
     ]
    },
    {
     "name": "stdout",
     "output_type": "stream",
     "text": [
      "batch 1 started!\n"
     ]
    },
    {
     "name": "stderr",
     "output_type": "stream",
     "text": [
      "/home/m1/23CS60R48/MTP/.venv/lib/python3.10/site-packages/torch/amp/autocast_mode.py:250: UserWarning: User provided device_type of 'cuda', but CUDA is not available. Disabling\n",
      "  warnings.warn(\n"
     ]
    }
   ],
   "source": [
    "\n",
    "for modality_keys in modality_keys_list:\n",
    "    train_model(modality_keys=modality_keys, train_path=train_path, val_path=val_path, max_epochs=10, val_interval=2)\n",
    "\n"
   ]
  }
 ],
 "metadata": {
  "kernelspec": {
   "display_name": "Python 3",
   "language": "python",
   "name": "python3"
  },
  "language_info": {
   "codemirror_mode": {
    "name": "ipython",
    "version": 3
   },
   "file_extension": ".py",
   "mimetype": "text/x-python",
   "name": "python",
   "nbconvert_exporter": "python",
   "pygments_lexer": "ipython3",
   "version": "3.10.12"
  }
 },
 "nbformat": 4,
 "nbformat_minor": 2
}
