{
 "cells": [
  {
   "cell_type": "code",
   "execution_count": null,
   "metadata": {},
   "outputs": [
    {
     "ename": "",
     "evalue": "",
     "output_type": "error",
     "traceback": [
      "\u001b[1;31mFailed to start the Kernel. \n",
      "\u001b[1;31mUnable to start Kernel 'Python 3.8.10' due to a timeout waiting for the ports to get used. \n",
      "\u001b[1;31mView Jupyter <a href='command:jupyter.viewOutput'>log</a> for further details."
     ]
    }
   ],
   "source": [
    "import os\n",
    "import torch\n",
    "import monai\n",
    "from monai.transforms import (\n",
    "    Compose, LoadImaged, EnsureChannelFirstd, Spacingd, Orientationd, ScaleIntensityRanged, CropForegroundd,\n",
    "    RandCropByPosNegLabeld, RandFlipd, RandRotate90d, RandShiftIntensityd, EnsureTyped, DivisiblePadd\n",
    ")\n",
    "from monai.data import DataLoader, CacheDataset\n",
    "from monai.networks.nets import SwinUNETR\n",
    "from monai.utils import set_determinism\n",
    "from monai.data.image_reader import NibabelReader\n",
    "from sklearn.metrics import accuracy_score, classification_report\n",
    "from sklearn.model_selection import train_test_split\n",
    "from tqdm import tqdm\n",
    "import numpy as np\n",
    "import pandas as pd\n",
    "import lightgbm as lgb\n",
    "from sklearn.preprocessing import StandardScaler\n",
    "import torch.nn.functional as F\n",
    "from sklearn.model_selection import RandomizedSearchCV\n",
    "from sklearn.ensemble import RandomForestClassifier, VotingClassifier\n",
    "\n"
   ]
  },
  {
   "cell_type": "code",
   "execution_count": null,
   "metadata": {},
   "outputs": [
    {
     "ename": "",
     "evalue": "",
     "output_type": "error",
     "traceback": [
      "\u001b[1;31mFailed to start the Kernel. \n",
      "\u001b[1;31mUnable to start Kernel 'Python 3.8.10' due to a timeout waiting for the ports to get used. \n",
      "\u001b[1;31mView Jupyter <a href='command:jupyter.viewOutput'>log</a> for further details."
     ]
    }
   ],
   "source": [
    " # Define directories\n",
    "train_path = 'dataset/MICCAI_BraTS2020_TrainingData/'\n",
    "# val_path = 'dataset/MICCAI_BraTS2020_ValidationData/'\n",
    "modality_keys = [\"flair\"]\n",
    "in_channels = len(modality_keys)\n",
    "out_channels = len(modality_keys) "
   ]
  },
  {
   "cell_type": "code",
   "execution_count": null,
   "metadata": {},
   "outputs": [
    {
     "ename": "",
     "evalue": "",
     "output_type": "error",
     "traceback": [
      "\u001b[1;31mFailed to start the Kernel. \n",
      "\u001b[1;31mUnable to start Kernel 'Python 3.8.10' due to a timeout waiting for the ports to get used. \n",
      "\u001b[1;31mView Jupyter <a href='command:jupyter.viewOutput'>log</a> for further details."
     ]
    }
   ],
   "source": [
    "def create_data_list(data_dir, patient_ids, lables, modality_keys):\n",
    "    data_list = []\n",
    "    for idx, patient in enumerate(patient_ids):\n",
    "        patient_dir = f\"{data_dir}{patient}/\"\n",
    "        if os.path.isdir(patient_dir):\n",
    "            data_dict = {key: os.path.join(patient_dir, f\"{patient}_{key}.nii\") for key in modality_keys}\n",
    "            data_dict['lable'] = lables[idx]\n",
    "            data_list.append(data_dict)\n",
    "\n",
    "    return data_list"
   ]
  },
  {
   "cell_type": "code",
   "execution_count": null,
   "metadata": {},
   "outputs": [
    {
     "ename": "",
     "evalue": "",
     "output_type": "error",
     "traceback": [
      "\u001b[1;31mFailed to start the Kernel. \n",
      "\u001b[1;31mUnable to start Kernel 'Python 3.8.10' due to a timeout waiting for the ports to get used. \n",
      "\u001b[1;31mView Jupyter <a href='command:jupyter.viewOutput'>log</a> for further details."
     ]
    }
   ],
   "source": []
  },
  {
   "cell_type": "code",
   "execution_count": null,
   "metadata": {},
   "outputs": [
    {
     "ename": "",
     "evalue": "",
     "output_type": "error",
     "traceback": [
      "\u001b[1;31mFailed to start the Kernel. \n",
      "\u001b[1;31mUnable to start Kernel 'Python 3.8.10' due to a timeout waiting for the ports to get used. \n",
      "\u001b[1;31mView Jupyter <a href='command:jupyter.viewOutput'>log</a> for further details."
     ]
    }
   ],
   "source": [
    "def preprocess_labels(csv_file_path):\n",
    "    df = pd.read_csv(csv_file_path)\n",
    "    df['Survival_days'] = pd.to_numeric(df['Survival_days'], errors='coerce')\n",
    "    df = df.dropna(subset=['Survival_days'])\n",
    "    df['Survival_days'] = df['Survival_days'].astype(int)\n",
    "    df['Survival_class'] = df['Survival_days'].apply(lambda x: 0 if x < 300 else (1 if x < 450 else 2))\n",
    "    return df['Survival_class'].values, df['Brats20ID'].values"
   ]
  },
  {
   "cell_type": "code",
   "execution_count": null,
   "metadata": {},
   "outputs": [
    {
     "ename": "",
     "evalue": "",
     "output_type": "error",
     "traceback": [
      "\u001b[1;31mFailed to start the Kernel. \n",
      "\u001b[1;31mUnable to start Kernel 'Python 3.8.10' due to a timeout waiting for the ports to get used. \n",
      "\u001b[1;31mView Jupyter <a href='command:jupyter.viewOutput'>log</a> for further details."
     ]
    }
   ],
   "source": [
    "all_labels, all_data_ids = preprocess_labels(f'{train_path}/survival_info.csv')\n",
    "train_id, val_id, train_labels, val_labels = train_test_split(all_data_ids, all_labels, test_size=0.2, random_state=42)\n",
    "\n",
    "train_data_list = create_data_list(train_path, train_id, train_labels, modality_keys)\n",
    "val_data_list = create_data_list(train_path, val_id, val_labels, modality_keys)\n",
    "\n",
    "\n",
    "# since we dont have lables for validation dataset not using it for validation\n",
    "# val_data_list = create_data_list(val_path, modality_keys)\n",
    "# val_labels = preprocess_labels(f'{val_path}/survival_evaluation.csv')\n",
    "\n"
   ]
  },
  {
   "cell_type": "code",
   "execution_count": null,
   "metadata": {},
   "outputs": [
    {
     "ename": "",
     "evalue": "",
     "output_type": "error",
     "traceback": [
      "\u001b[1;31mFailed to start the Kernel. \n",
      "\u001b[1;31mUnable to start Kernel 'Python 3.8.10' due to a timeout waiting for the ports to get used. \n",
      "\u001b[1;31mView Jupyter <a href='command:jupyter.viewOutput'>log</a> for further details."
     ]
    }
   ],
   "source": [
    "import nibabel as nib\n",
    "import torch\n",
    "\n",
    "# Load the NIfTI image\n",
    "file_path = train_data_list[0]['flair']\n",
    "img = nib.load(file_path)\n",
    "\n",
    "# Get the image data as a numpy array\n",
    "img_data = img.get_fdata()\n",
    "\n",
    "# Convert the numpy array to a PyTorch tensor\n",
    "img_tensor = torch.tensor(img_data, dtype=torch.float32)\n",
    "\n",
    "# Print the shape of the tensor\n",
    "print(f'Tensor shape: {img_tensor.shape}')\n"
   ]
  },
  {
   "cell_type": "code",
   "execution_count": null,
   "metadata": {},
   "outputs": [
    {
     "ename": "",
     "evalue": "",
     "output_type": "error",
     "traceback": [
      "\u001b[1;31mFailed to start the Kernel. \n",
      "\u001b[1;31mUnable to start Kernel 'Python 3.8.10' due to a timeout waiting for the ports to get used. \n",
      "\u001b[1;31mView Jupyter <a href='command:jupyter.viewOutput'>log</a> for further details."
     ]
    }
   ],
   "source": [
    "def get_transforms(modality_keys, pixdim=(2.0, 2.0, 2.0), spatial_size=(64, 64, 64)):\n",
    "    transforms = Compose(\n",
    "        [\n",
    "            LoadImaged(keys=modality_keys, reader=NibabelReader()),\n",
    "            EnsureChannelFirstd(keys=modality_keys),\n",
    "            Spacingd(keys=modality_keys, pixdim=pixdim, mode=(\"bilinear\")),\n",
    "            Orientationd(keys=modality_keys, axcodes=\"RAS\"),\n",
    "            ScaleIntensityRanged(keys=modality_keys, a_min=-175, a_max=250, b_min=0.0, b_max=1.0, clip=True),\n",
    "            CropForegroundd(keys=modality_keys, source_key=modality_keys[0], allow_smaller=True),\n",
    "            DivisiblePadd(keys=modality_keys, k=32),\n",
    "            RandCropByPosNegLabeld(keys=modality_keys, label_key=modality_keys[0], spatial_size=spatial_size, pos=1, neg=1, num_samples=1, image_key=modality_keys[0], image_threshold=0),\n",
    "            RandFlipd(keys=modality_keys, prob=0.5, spatial_axis=0),\n",
    "            RandFlipd(keys=modality_keys, prob=0.5, spatial_axis=1),\n",
    "            RandFlipd(keys=modality_keys, prob=0.5, spatial_axis=2),\n",
    "            RandRotate90d(keys=modality_keys, prob=0.5, max_k=3),\n",
    "            RandShiftIntensityd(keys=modality_keys, offsets=0.10, prob=0.5),\n",
    "            EnsureTyped(keys=modality_keys),\n",
    "        ]\n",
    "    )\n",
    "    return transforms"
   ]
  },
  {
   "cell_type": "code",
   "execution_count": null,
   "metadata": {},
   "outputs": [
    {
     "ename": "",
     "evalue": "",
     "output_type": "error",
     "traceback": [
      "\u001b[1;31mFailed to start the Kernel. \n",
      "\u001b[1;31mUnable to start Kernel 'Python 3.8.10' due to a timeout waiting for the ports to get used. \n",
      "\u001b[1;31mView Jupyter <a href='command:jupyter.viewOutput'>log</a> for further details."
     ]
    }
   ],
   "source": [
    "def get_val_transforms(modality_keys, pixdim=(2.0, 2.0, 2.0)):\n",
    "    transforms = Compose(\n",
    "        [\n",
    "            LoadImaged(keys=modality_keys, reader=NibabelReader()),\n",
    "            EnsureChannelFirstd(keys=modality_keys),\n",
    "            Spacingd(keys=modality_keys, pixdim=pixdim, mode=(\"bilinear\")),\n",
    "            Orientationd(keys=modality_keys, axcodes=\"RAS\"),\n",
    "            ScaleIntensityRanged(keys=modality_keys, a_min=-175, a_max=250, b_min=0.0, b_max=1.0, clip=True),\n",
    "            CropForegroundd(keys=modality_keys, source_key=modality_keys[0], allow_smaller=True),\n",
    "            DivisiblePadd(keys=modality_keys, k=32),\n",
    "            EnsureTyped(keys=modality_keys),\n",
    "        ]\n",
    "    )\n",
    "    return transforms"
   ]
  },
  {
   "cell_type": "code",
   "execution_count": null,
   "metadata": {},
   "outputs": [
    {
     "ename": "",
     "evalue": "",
     "output_type": "error",
     "traceback": [
      "\u001b[1;31mFailed to start the Kernel. \n",
      "\u001b[1;31mUnable to start Kernel 'Python 3.8.10' due to a timeout waiting for the ports to get used. \n",
      "\u001b[1;31mView Jupyter <a href='command:jupyter.viewOutput'>log</a> for further details."
     ]
    }
   ],
   "source": [
    "train_transforms = get_transforms(modality_keys)\n",
    "val_transforms = get_val_transforms(modality_keys)\n"
   ]
  },
  {
   "cell_type": "code",
   "execution_count": null,
   "metadata": {},
   "outputs": [
    {
     "ename": "",
     "evalue": "",
     "output_type": "error",
     "traceback": [
      "\u001b[1;31mFailed to start the Kernel. \n",
      "\u001b[1;31mUnable to start Kernel 'Python 3.8.10' due to a timeout waiting for the ports to get used. \n",
      "\u001b[1;31mView Jupyter <a href='command:jupyter.viewOutput'>log</a> for further details."
     ]
    }
   ],
   "source": [
    "train_ds = CacheDataset(\n",
    "    data=train_data_list,\n",
    "    transform=train_transforms,\n",
    "    cache_rate=0.5,\n",
    "    num_workers=4,\n",
    ")\n",
    "train_loader = DataLoader(train_ds,  batch_size=2, shuffle=True, num_workers=4)\n"
   ]
  },
  {
   "cell_type": "code",
   "execution_count": null,
   "metadata": {},
   "outputs": [
    {
     "ename": "",
     "evalue": "",
     "output_type": "error",
     "traceback": [
      "\u001b[1;31mFailed to start the Kernel. \n",
      "\u001b[1;31mUnable to start Kernel 'Python 3.8.10' due to a timeout waiting for the ports to get used. \n",
      "\u001b[1;31mView Jupyter <a href='command:jupyter.viewOutput'>log</a> for further details."
     ]
    }
   ],
   "source": [
    "val_ds = CacheDataset(\n",
    "    data=val_data_list,\n",
    "    transform=val_transforms,\n",
    "    cache_rate=0.5,\n",
    "    num_workers=4,\n",
    ")\n",
    "val_loader = DataLoader(val_ds, batch_size=2, shuffle=False, num_workers=2)"
   ]
  },
  {
   "cell_type": "code",
   "execution_count": null,
   "metadata": {},
   "outputs": [
    {
     "ename": "",
     "evalue": "",
     "output_type": "error",
     "traceback": [
      "\u001b[1;31mFailed to start the Kernel. \n",
      "\u001b[1;31mUnable to start Kernel 'Python 3.8.10' due to a timeout waiting for the ports to get used. \n",
      "\u001b[1;31mView Jupyter <a href='command:jupyter.viewOutput'>log</a> for further details."
     ]
    }
   ],
   "source": [
    "# Load the pretrained model\n",
    "device = torch.device(\"cuda:0\" if torch.cuda.is_available() else \"cpu\")\n",
    "model = SwinUNETR(\n",
    "    img_size=(64, 64, 64),\n",
    "    in_channels=in_channels,\n",
    "    out_channels=out_channels,\n",
    "    feature_size=48,\n",
    "    use_checkpoint=True,\n",
    ").to(device)\n",
    "\n",
    "\n",
    "# Load the saved weights\n",
    "modality_used = \"_\".join(modality_keys)\n",
    "model_save_path = f\"model_saved/swin_unetr_{modality_used}_temp.pth\"\n",
    "\n",
    "model.load_state_dict(torch.load(model_save_path))\n",
    "model.eval()"
   ]
  },
  {
   "cell_type": "code",
   "execution_count": null,
   "metadata": {},
   "outputs": [
    {
     "ename": "",
     "evalue": "",
     "output_type": "error",
     "traceback": [
      "\u001b[1;31mFailed to start the Kernel. \n",
      "\u001b[1;31mUnable to start Kernel 'Python 3.8.10' due to a timeout waiting for the ports to get used. \n",
      "\u001b[1;31mView Jupyter <a href='command:jupyter.viewOutput'>log</a> for further details."
     ]
    }
   ],
   "source": [
    "# # 2. Modify the SwinUNETR class to add a method for feature extraction\n",
    "# class FeatureExtractorSwinUNETR(SwinUNETR):\n",
    "#     def __init__(self, *args, **kwargs):\n",
    "#         super().__init__(*args, **kwargs)\n",
    "    \n",
    "#     def extract_features(self, x):\n",
    "#         print(\" at start\",x.size())\n",
    "#         hidden_states = self.swinViT(x, self.normalize)\n",
    "#         enc0 = self.encoder1(x)\n",
    "#         print(\" after enco 1\",x.size())\n",
    "#         enc1 = self.encoder2(hidden_states[0])\n",
    "#         print(\" after enco 2\",enc1.size())\n",
    "#         enc2 = self.encoder3(hidden_states[1])\n",
    "#         print(\" after enco 3\",enc2.size())\n",
    "#         enc3 = self.encoder4(hidden_states[2])\n",
    "#         print(\" after enco 4\",enc3.size())\n",
    "#         # dec3 = self.encoder10(hidden_states[3])\n",
    "#         # print(\" after dec3\",dec3.size())\n",
    "#         # return torch.cat([enc0, enc1, enc2, enc3, dec3], dim=1)\n",
    "#         return torch.cat([enc0, enc1, enc2, enc3], dim=1)"
   ]
  },
  {
   "cell_type": "code",
   "execution_count": null,
   "metadata": {},
   "outputs": [
    {
     "ename": "",
     "evalue": "",
     "output_type": "error",
     "traceback": [
      "\u001b[1;31mFailed to start the Kernel. \n",
      "\u001b[1;31mUnable to start Kernel 'Python 3.8.10' due to a timeout waiting for the ports to get used. \n",
      "\u001b[1;31mView Jupyter <a href='command:jupyter.viewOutput'>log</a> for further details."
     ]
    }
   ],
   "source": [
    "class FeatureExtractorSwinUNETR(SwinUNETR):\n",
    "    def __init__(self, *args, **kwargs):\n",
    "        super().__init__(*args, **kwargs)\n",
    "    \n",
    "    def extract_features(self, x):\n",
    "        hidden_states = self.swinViT(x, self.normalize)\n",
    "        \n",
    "        # Adaptive pooling to resize all hidden states to a common size\n",
    "        pooled_states = []\n",
    "        for state in hidden_states:\n",
    "            # Adaptive average pooling to 4x4x4\n",
    "            pooled = F.adaptive_avg_pool3d(state, (4, 4, 4))\n",
    "            pooled_states.append(pooled)\n",
    "        \n",
    "        # Concatenate the pooled states\n",
    "        return torch.cat(pooled_states, dim=1)\n"
   ]
  },
  {
   "cell_type": "code",
   "execution_count": null,
   "metadata": {},
   "outputs": [
    {
     "ename": "",
     "evalue": "",
     "output_type": "error",
     "traceback": [
      "\u001b[1;31mFailed to start the Kernel. \n",
      "\u001b[1;31mUnable to start Kernel 'Python 3.8.10' due to a timeout waiting for the ports to get used. \n",
      "\u001b[1;31mView Jupyter <a href='command:jupyter.viewOutput'>log</a> for further details."
     ]
    }
   ],
   "source": [
    "#  Create an instance of the feature extractor\n",
    "feature_extractor = FeatureExtractorSwinUNETR(\n",
    "    img_size=(64, 64, 64),\n",
    "    in_channels=in_channels,\n",
    "    out_channels=out_channels,\n",
    "    feature_size=48,\n",
    "    use_checkpoint=True,\n",
    ").to(device)\n",
    "feature_extractor.load_state_dict(model.state_dict())\n",
    "feature_extractor.eval()"
   ]
  },
  {
   "cell_type": "code",
   "execution_count": null,
   "metadata": {},
   "outputs": [
    {
     "ename": "",
     "evalue": "",
     "output_type": "error",
     "traceback": [
      "\u001b[1;31mFailed to start the Kernel. \n",
      "\u001b[1;31mUnable to start Kernel 'Python 3.8.10' due to a timeout waiting for the ports to get used. \n",
      "\u001b[1;31mView Jupyter <a href='command:jupyter.viewOutput'>log</a> for further details."
     ]
    }
   ],
   "source": [
    "\n",
    "# # 3. Extract features from your dataset\n",
    "# def extract_features_from_dataset(dataset, feature_extractor):\n",
    "#     features = []\n",
    "#     labels = []\n",
    "    \n",
    "#     for data in dataset:\n",
    "#         inputs = torch.cat([data[key] for key in modality_keys], dim=1).to(device)\n",
    "#         with torch.no_grad():\n",
    "#             feature = feature_extractor.extract_features(inputs)\n",
    "        \n",
    "#         # Assuming the feature is 5D (batch, channels, depth, height, width)\n",
    "#         # We'll flatten it to 2D (batch, features)\n",
    "#         feature = feature.view(feature.size(0), -1)\n",
    "        \n",
    "#         features.append(feature.cpu().numpy())\n",
    "#         labels.append(data['label'].cpu().numpy())  # Assuming you have labels in your dataset\n",
    "    \n",
    "#     return np.concatenate(features), np.concatenate(labels)\n"
   ]
  },
  {
   "cell_type": "code",
   "execution_count": null,
   "metadata": {},
   "outputs": [
    {
     "ename": "",
     "evalue": "",
     "output_type": "error",
     "traceback": [
      "\u001b[1;31mFailed to start the Kernel. \n",
      "\u001b[1;31mUnable to start Kernel 'Python 3.8.10' due to a timeout waiting for the ports to get used. \n",
      "\u001b[1;31mView Jupyter <a href='command:jupyter.viewOutput'>log</a> for further details."
     ]
    }
   ],
   "source": [
    "def extract_features_from_dataset(dataloader, feature_extractor):\n",
    "    features = []\n",
    "    labels = []\n",
    "    \n",
    "    for batch in dataloader:\n",
    "        inputs = torch.cat([batch[key] for key in modality_keys], dim=1).to(device)\n",
    "        with torch.no_grad():\n",
    "            feature = feature_extractor.extract_features(inputs)\n",
    "        \n",
    "        # Global average pooling to reduce spatial dimensions\n",
    "        feature = torch.mean(feature, dim=[2, 3, 4])\n",
    "        \n",
    "        features.append(feature.cpu().numpy())\n",
    "        # labels.append(batch['label'].cpu().numpy())  # Assuming you have labels in your dataset\n",
    "    \n",
    "    return np.concatenate(features)\n"
   ]
  },
  {
   "cell_type": "code",
   "execution_count": null,
   "metadata": {},
   "outputs": [
    {
     "ename": "",
     "evalue": "",
     "output_type": "error",
     "traceback": [
      "\u001b[1;31mFailed to start the Kernel. \n",
      "\u001b[1;31mUnable to start Kernel 'Python 3.8.10' due to a timeout waiting for the ports to get used. \n",
      "\u001b[1;31mView Jupyter <a href='command:jupyter.viewOutput'>log</a> for further details."
     ]
    }
   ],
   "source": [
    "\n",
    "# Extract features for training and validation sets\n",
    "train_features = extract_features_from_dataset(train_loader, feature_extractor)\n",
    "val_features = extract_features_from_dataset(val_loader, feature_extractor)\n"
   ]
  },
  {
   "cell_type": "code",
   "execution_count": null,
   "metadata": {},
   "outputs": [
    {
     "ename": "",
     "evalue": "",
     "output_type": "error",
     "traceback": [
      "\u001b[1;31mFailed to start the Kernel. \n",
      "\u001b[1;31mUnable to start Kernel 'Python 3.8.10' due to a timeout waiting for the ports to get used. \n",
      "\u001b[1;31mView Jupyter <a href='command:jupyter.viewOutput'>log</a> for further details."
     ]
    }
   ],
   "source": [
    "# Define Random Forest model\n",
    "rf_model = RandomForestClassifier(random_state=42)\n"
   ]
  },
  {
   "cell_type": "code",
   "execution_count": null,
   "metadata": {},
   "outputs": [
    {
     "ename": "",
     "evalue": "",
     "output_type": "error",
     "traceback": [
      "\u001b[1;31mFailed to start the Kernel. \n",
      "\u001b[1;31mUnable to start Kernel 'Python 3.8.10' due to a timeout waiting for the ports to get used. \n",
      "\u001b[1;31mView Jupyter <a href='command:jupyter.viewOutput'>log</a> for further details."
     ]
    }
   ],
   "source": [
    "# Define hyperparameter search space\n",
    "param_dist = {\n",
    "    'n_estimators': [100, 200, 300, 400, 500],\n",
    "    'max_depth': [None, 10, 20, 30, 40, 50],\n",
    "    'min_samples_split': [2, 5, 10],\n",
    "    'min_samples_leaf': [1, 2, 4],\n",
    "    'max_features': ['auto', 'sqrt', 'log2']\n",
    "}"
   ]
  },
  {
   "cell_type": "code",
   "execution_count": null,
   "metadata": {},
   "outputs": [
    {
     "ename": "",
     "evalue": "",
     "output_type": "error",
     "traceback": [
      "\u001b[1;31mFailed to start the Kernel. \n",
      "\u001b[1;31mUnable to start Kernel 'Python 3.8.10' due to a timeout waiting for the ports to get used. \n",
      "\u001b[1;31mView Jupyter <a href='command:jupyter.viewOutput'>log</a> for further details."
     ]
    }
   ],
   "source": [
    "# Perform RandomizedSearchCV\n",
    "random_search = RandomizedSearchCV(rf_model, param_distributions=param_dist, n_iter=25, cv=5, random_state=42, n_jobs=-1)\n"
   ]
  },
  {
   "cell_type": "code",
   "execution_count": null,
   "metadata": {},
   "outputs": [
    {
     "ename": "",
     "evalue": "",
     "output_type": "error",
     "traceback": [
      "\u001b[1;31mFailed to start the Kernel. \n",
      "\u001b[1;31mUnable to start Kernel 'Python 3.8.10' due to a timeout waiting for the ports to get used. \n",
      "\u001b[1;31mView Jupyter <a href='command:jupyter.viewOutput'>log</a> for further details."
     ]
    }
   ],
   "source": [
    "best_lgb_model = random_search.best_estimator_\n",
    "\n",
    "# Create an ensemble\n",
    "rf_model = RandomForestClassifier(n_estimators=100, random_state=42)\n",
    "\n",
    "ensemble = VotingClassifier(\n",
    "    estimators=[('lgb', best_lgb_model), ('rf', rf_model)],\n",
    "    voting='soft'\n",
    ")"
   ]
  },
  {
   "cell_type": "code",
   "execution_count": null,
   "metadata": {},
   "outputs": [
    {
     "ename": "",
     "evalue": "",
     "output_type": "error",
     "traceback": [
      "\u001b[1;31mFailed to start the Kernel. \n",
      "\u001b[1;31mUnable to start Kernel 'Python 3.8.10' due to a timeout waiting for the ports to get used. \n",
      "\u001b[1;31mView Jupyter <a href='command:jupyter.viewOutput'>log</a> for further details."
     ]
    }
   ],
   "source": [
    "# Fit the ensemble\n",
    "ensemble.fit(train_features, train_labels)"
   ]
  },
  {
   "cell_type": "code",
   "execution_count": null,
   "metadata": {},
   "outputs": [
    {
     "ename": "",
     "evalue": "",
     "output_type": "error",
     "traceback": [
      "\u001b[1;31mFailed to start the Kernel. \n",
      "\u001b[1;31mUnable to start Kernel 'Python 3.8.10' due to a timeout waiting for the ports to get used. \n",
      "\u001b[1;31mView Jupyter <a href='command:jupyter.viewOutput'>log</a> for further details."
     ]
    }
   ],
   "source": [
    "# Make predictions\n",
    "y_pred = ensemble.predict(val_features)\n"
   ]
  },
  {
   "cell_type": "code",
   "execution_count": null,
   "metadata": {},
   "outputs": [
    {
     "ename": "",
     "evalue": "",
     "output_type": "error",
     "traceback": [
      "\u001b[1;31mFailed to start the Kernel. \n",
      "\u001b[1;31mUnable to start Kernel 'Python 3.8.10' due to a timeout waiting for the ports to get used. \n",
      "\u001b[1;31mView Jupyter <a href='command:jupyter.viewOutput'>log</a> for further details."
     ]
    }
   ],
   "source": [
    "# Evaluate the model\n",
    "accuracy = accuracy_score(val_labels, y_pred)\n",
    "print(f\"Accuracy: {accuracy}\")\n",
    "print(classification_report(val_labels, y_pred))"
   ]
  },
  {
   "cell_type": "code",
   "execution_count": null,
   "metadata": {},
   "outputs": [
    {
     "ename": "",
     "evalue": "",
     "output_type": "error",
     "traceback": [
      "\u001b[1;31mFailed to start the Kernel. \n",
      "\u001b[1;31mUnable to start Kernel 'Python 3.8.10' due to a timeout waiting for the ports to get used. \n",
      "\u001b[1;31mView Jupyter <a href='command:jupyter.viewOutput'>log</a> for further details."
     ]
    }
   ],
   "source": [
    "train_features.shape\n"
   ]
  },
  {
   "cell_type": "code",
   "execution_count": null,
   "metadata": {},
   "outputs": [
    {
     "ename": "",
     "evalue": "",
     "output_type": "error",
     "traceback": [
      "\u001b[1;31mFailed to start the Kernel. \n",
      "\u001b[1;31mUnable to start Kernel 'Python 3.8.10' due to a timeout waiting for the ports to get used. \n",
      "\u001b[1;31mView Jupyter <a href='command:jupyter.viewOutput'>log</a> for further details."
     ]
    }
   ],
   "source": [
    "val_features.shape"
   ]
  }
 ],
 "metadata": {
  "kernelspec": {
   "display_name": "Python 3",
   "language": "python",
   "name": "python3"
  },
  "language_info": {
   "name": "python",
   "version": "3.8.10"
  }
 },
 "nbformat": 4,
 "nbformat_minor": 2
}
